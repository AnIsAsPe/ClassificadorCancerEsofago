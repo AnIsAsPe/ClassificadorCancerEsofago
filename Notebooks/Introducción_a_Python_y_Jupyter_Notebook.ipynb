{
  "nbformat": 4,
  "nbformat_minor": 0,
  "metadata": {
    "kernelspec": {
      "display_name": "Python 3",
      "language": "python",
      "name": "python3"
    },
    "language_info": {
      "codemirror_mode": {
        "name": "ipython",
        "version": 3
      },
      "file_extension": ".py",
      "mimetype": "text/x-python",
      "name": "python",
      "nbconvert_exporter": "python",
      "pygments_lexer": "ipython3",
      "version": "3.8.2"
    },
    "colab": {
      "provenance": [],
      "toc_visible": true,
      "include_colab_link": true
    }
  },
  "cells": [
    {
      "cell_type": "markdown",
      "metadata": {
        "id": "view-in-github",
        "colab_type": "text"
      },
      "source": [
        "<a href=\"https://colab.research.google.com/github/AnIsAsPe/ClassificadorCancerEsofago/blob/master/Notebooks/Introducci%C3%B3n_a_Python_y_Jupyter_Notebook.ipynb\" target=\"_parent\"><img src=\"https://colab.research.google.com/assets/colab-badge.svg\" alt=\"Open In Colab\"/></a>"
      ]
    },
    {
      "cell_type": "markdown",
      "metadata": {
        "id": "B_zEBWMmWQbs"
      },
      "source": [
        "# Introducción a Python y Jupyter Notebook"
      ]
    },
    {
      "cell_type": "markdown",
      "metadata": {
        "id": "ZbKD2t9XWQbv"
      },
      "source": [
        "## Python\n",
        "[Python](https://www.python.org/) es un lenguaje de programación de propósito general ideado por el holandés [Guido van Rossum](https://es.wikipedia.org/wiki/Guido_van_Rossum) para ser simple en su escritura y lectura. La primera versión de Python fue lanzada en 1991 y la versión 1.0 en 1994\n",
        "\n",
        "*Fortalezas*\n",
        "- Es uno de los lenguajes de programación [más extendidos](https://insights.stackoverflow.com/trends?tags=java%2Cc%2Cc%2B%2B%2Cpython%2Cc%23%2Cvb.net%2Cjavascript%2Cassembly%2Cphp%2Cperl%2Cruby%2Cswift%2Cr%2Cobjective-c) y más usados para el análisis de datos, el aprendizaje automático (machine learning) aprendizaje profundo(deep learning). Además es utilizado ampliamente en desarrollo web, aplicaciones móviles y administración de sistemas.\n",
        "- Cuenta con una de las mayores comunidades apoyando\n",
        "- Es un lenguaje de alto nivel, multiplataforma, extensible (más de 200,000 librerías), de código abierto.\n",
        "- Tiene un buen soporte para procesamiento en paralelo, operaciones con CPU\n",
        "- Sin costo de licencia y código abierto\n",
        "\n",
        "\n",
        "\n",
        "\n"
      ]
    },
    {
      "cell_type": "markdown",
      "metadata": {
        "id": "Tfk1zJrHWQbw"
      },
      "source": [
        "## Jupyter Notebook\n",
        "\n",
        "__Jupyter Notebook__, es un ambiente de trabajo que busca unificar las herramientas de documentación y ejecución, permitiendo escribir código, visualizar resultados  e incluir comentarios de manera interactiva.\n",
        "\n",
        "Otra ventaja es que permite su exportación  a archivos html, pdf, markdown, entre otros\n",
        "\n",
        "Su nombre proviene de los lenguajes de programación que soporta: Julia, Python y R\n"
      ]
    },
    {
      "cell_type": "markdown",
      "metadata": {
        "id": "e1-lYImVWQbw"
      },
      "source": [
        "Puedes correr una línea de código oprimiendo el botón Run del menú o bien con la combinación de teclas Ctrl+Enter o Shift+Enter"
      ]
    },
    {
      "cell_type": "code",
      "metadata": {
        "id": "0Km_mc8vWQbx"
      },
      "source": [
        "print(\"Hola Mundo\")"
      ],
      "execution_count": null,
      "outputs": []
    },
    {
      "cell_type": "markdown",
      "metadata": {
        "id": "ti3_qPOlWQby"
      },
      "source": [
        "__Shortcuts útiles:__\n",
        "\n",
        "- Tab despúes del nombre de una librería nos ayuda a completar el código\n",
        "- La combinación Shift+Tab que nos proporciona ayuda acerca de los argumentos da alguna función\n",
        "\n",
        "__Fácil acceso a la documentación__\n",
        "* ?          Introducción y vistazo a Jupyter Notebook (IPython)\n",
        "* help()     Documentación de alguna librería, modulo, objeto\n",
        "* object?    Detalles acerca de un objeto, usar objeto?? para más detalles"
      ]
    },
    {
      "cell_type": "markdown",
      "metadata": {
        "id": "awnHcSusWQbz"
      },
      "source": [
        "## Variables en Python\n",
        "\n",
        "Los nombres pueden contener los cualquier letra de la __A__ a la __Z__, en mayúsculas o minúsculas, números del __0__ al __9__ y algunos caracteres especiales como _____ o __-__.\n",
        "\n",
        "Hay además algunas palabras clave en Python que no pueden ser usados como nombres de variables:\n",
        "\n",
        "![image.png](https://qph.cf2.quoracdn.net/main-qimg-bb6f00e9b9e939155d6f263754ffcd05)\n",
        "\n"
      ]
    },
    {
      "cell_type": "markdown",
      "metadata": {
        "id": "UqW5ArEIWQbz"
      },
      "source": [
        "## Tipos fundamentales de variables\n",
        "\n",
        "* int:     enteros   (1, 2, 3 ...)\n",
        "* float:   flotantes (1.0, 1.567, ...)\n",
        "* bool:    boleanos  (True, False)\n",
        "* complex: complejos\n",
        "\n",
        "El operador para asignar variables es el signo __=__"
      ]
    },
    {
      "cell_type": "code",
      "metadata": {
        "id": "DD5a3T7IWQb0",
        "collapsed": true
      },
      "source": [
        "# Enteros.\n",
        "x = 1\n",
        "type(x)"
      ],
      "execution_count": null,
      "outputs": []
    },
    {
      "cell_type": "code",
      "metadata": {
        "id": "U8BsXoUvWQb1",
        "collapsed": true
      },
      "source": [
        "# Conversión de tipo de objeto.\n",
        "x = float(x)\n",
        "print(x, type(x))"
      ],
      "execution_count": null,
      "outputs": []
    },
    {
      "cell_type": "markdown",
      "metadata": {
        "id": "tf1dv9GXWQb2"
      },
      "source": [
        "## Operadores\n",
        "\n",
        "\n",
        "* __Aritméticos:__       +  suma, -  resta, *  multiplicación, /  división, ** potencia, // división entera\n",
        "\n",
        "* __Boleanos:__          and, or, not\n",
        "\n",
        "* __De comparación:__    <   menor que, >   mayor que, <=  menor o igual que, >=  mayor o igual que, ==  igual que, !=  no es igual que\n",
        "\n",
        "\n"
      ]
    },
    {
      "cell_type": "code",
      "source": [
        "2 + 6\n"
      ],
      "metadata": {
        "collapsed": true,
        "id": "WkmsWjLtsrjG"
      },
      "execution_count": null,
      "outputs": []
    },
    {
      "cell_type": "code",
      "metadata": {
        "collapsed": true,
        "id": "o4BMe3empTRC"
      },
      "source": [
        "1 - 2"
      ],
      "execution_count": null,
      "outputs": []
    },
    {
      "cell_type": "code",
      "source": [
        "8*3"
      ],
      "metadata": {
        "id": "f-QX6XfqjaCC",
        "collapsed": true
      },
      "execution_count": null,
      "outputs": []
    },
    {
      "cell_type": "code",
      "source": [
        "1/2"
      ],
      "metadata": {
        "collapsed": true,
        "id": "UDelfX6ppl0-"
      },
      "execution_count": null,
      "outputs": []
    },
    {
      "cell_type": "code",
      "source": [
        "2**5       # Potencia"
      ],
      "metadata": {
        "id": "8m4I11a9joPD",
        "collapsed": true
      },
      "execution_count": null,
      "outputs": []
    },
    {
      "cell_type": "code",
      "source": [
        "16%5       # Módulo"
      ],
      "metadata": {
        "collapsed": true,
        "id": "HJMm2gRZpqbv"
      },
      "execution_count": null,
      "outputs": []
    },
    {
      "cell_type": "code",
      "source": [
        "16//5      # División entera"
      ],
      "metadata": {
        "id": "E8ubbZthpq31"
      },
      "execution_count": null,
      "outputs": []
    },
    {
      "cell_type": "code",
      "metadata": {
        "id": "KQg7692_WQb2",
        "collapsed": true
      },
      "source": [
        "True and False,   not False,   True or False"
      ],
      "execution_count": null,
      "outputs": []
    },
    {
      "cell_type": "code",
      "metadata": {
        "id": "_bSAAfGfWQb3"
      },
      "source": [
        "3 < 2,   3 > 3,    3 <= 3,    3 >= 3,    4 == 4  , 4 != 4"
      ],
      "execution_count": null,
      "outputs": []
    },
    {
      "cell_type": "markdown",
      "metadata": {
        "id": "6JDVE17yWQb3"
      },
      "source": [
        "## Cadenas (str)\n",
        "El procesamiento de textos en Python es muy poderos. Veamos algunos ejemplos"
      ]
    },
    {
      "cell_type": "code",
      "metadata": {
        "id": "CgLQNaExWQb3"
      },
      "source": [
        "s = 'Hola mundo'\n",
        "type(s)"
      ],
      "execution_count": null,
      "outputs": []
    },
    {
      "cell_type": "code",
      "metadata": {
        "id": "7T4yMf5OWQb3"
      },
      "source": [
        "print(len(s))\n",
        "print(s.upper())\n",
        "print(s.replace('mundo', 'clase'))"
      ],
      "execution_count": null,
      "outputs": []
    },
    {
      "cell_type": "code",
      "metadata": {
        "id": "-AqXtDCTWQb4"
      },
      "source": [
        "s[0], s[1], s[2], s[3]"
      ],
      "execution_count": null,
      "outputs": []
    },
    {
      "cell_type": "code",
      "metadata": {
        "id": "Cl_FeqBeWQb4"
      },
      "source": [
        "s[0:5]"
      ],
      "execution_count": null,
      "outputs": []
    },
    {
      "cell_type": "code",
      "metadata": {
        "id": "zyauNCYYWQb4"
      },
      "source": [
        "s[:5]"
      ],
      "execution_count": null,
      "outputs": []
    },
    {
      "cell_type": "code",
      "metadata": {
        "id": "pVpimJK1WQb4"
      },
      "source": [
        "s[-3:]"
      ],
      "execution_count": null,
      "outputs": []
    },
    {
      "cell_type": "code",
      "metadata": {
        "id": "YZJaePj3WQb5"
      },
      "source": [
        "s[:]"
      ],
      "execution_count": null,
      "outputs": []
    },
    {
      "cell_type": "markdown",
      "metadata": {
        "id": "mEKcMfoTWQb5"
      },
      "source": [
        "## Listas\n",
        "Las listas son muy similares alas cadenas excepto que cada elemento puede ser de un tipo diferente.\n",
        "\n",
        "La sintaxis para crear listas en Python es [ ..., ..., ...]"
      ]
    },
    {
      "cell_type": "code",
      "metadata": {
        "id": "aOWE3q39WQb5"
      },
      "source": [
        "l = [ 1, 'hola', 3.4, 'sapo']\n",
        "type(l)"
      ],
      "execution_count": null,
      "outputs": []
    },
    {
      "cell_type": "code",
      "metadata": {
        "id": "5HTvYA41WQb5"
      },
      "source": [
        "print(l)\n",
        "print(l[1])\n",
        "print(l[-2])\n",
        "print(l[1:3])"
      ],
      "execution_count": null,
      "outputs": []
    },
    {
      "cell_type": "code",
      "metadata": {
        "id": "vyaReO7HWQb5"
      },
      "source": [
        "lista_anidada = [1, [2, [3, [4, [5]]]]]\n",
        "\n",
        "lista_anidada"
      ],
      "execution_count": null,
      "outputs": []
    },
    {
      "cell_type": "markdown",
      "metadata": {
        "id": "AEmWyoQnWQb6"
      },
      "source": [
        "Las listas juegan un rol muy importante en Python y son, por ejemplo, usadas en bucles y otras estructuras de control de flujo"
      ]
    },
    {
      "cell_type": "markdown",
      "metadata": {
        "id": "4Teg3uZCWQb6"
      },
      "source": [
        "### Agregando  y modificando elementos de listas"
      ]
    },
    {
      "cell_type": "code",
      "metadata": {
        "id": "PEf3CoMDWQb6"
      },
      "source": [
        "l = []                # crea una nueva lista vacía\n",
        "\n",
        "# Usar el método `append` para agregar un nuevo elemento a la lista\n",
        "\n",
        "l.append(\"1\")\n",
        "l.append(\"2\")\n",
        "l.append(\"3\")\n",
        "\n",
        "print(l)"
      ],
      "execution_count": null,
      "outputs": []
    },
    {
      "cell_type": "code",
      "metadata": {
        "id": "C2h3IqbVWQb6"
      },
      "source": [
        "# Modificar un elemento de la lista usando su posición.\n",
        "l[0]=5\n",
        "l"
      ],
      "execution_count": null,
      "outputs": []
    },
    {
      "cell_type": "markdown",
      "metadata": {
        "id": "7d2l2jcYWQb6"
      },
      "source": [
        "## Tuplas\n",
        "\n",
        "Tuplas son similares a las listas, excepto que ellas no pueden ser modificadas una vez creadas, es decir, son *inmutables*.\n",
        "\n",
        "En Python, las tuplas son creadas usando la sintaxis `(..., ..., ...)`, o incluso `..., ...`:\n"
      ]
    },
    {
      "cell_type": "code",
      "metadata": {
        "id": "RFhqERFPWQb6"
      },
      "source": [
        "punto = 10, 20\n",
        "\n",
        "print(punto, type(punto))"
      ],
      "execution_count": null,
      "outputs": []
    },
    {
      "cell_type": "markdown",
      "metadata": {
        "id": "vNBSLX5-WQb6"
      },
      "source": [
        "Podemos separar una tupla asignándola a una lista de variables separadas por coma:"
      ]
    },
    {
      "cell_type": "code",
      "metadata": {
        "id": "yUf8KrERWQb7"
      },
      "source": [
        "x, y = punto\n",
        "\n",
        "print(\"x =\", x)\n",
        "print(\"y =\", y)"
      ],
      "execution_count": null,
      "outputs": []
    },
    {
      "cell_type": "markdown",
      "metadata": {
        "id": "4ZkygezYWQb7"
      },
      "source": [
        "## Ciclos usando for"
      ]
    },
    {
      "cell_type": "code",
      "metadata": {
        "id": "8LE257siWQb7"
      },
      "source": [
        "for i in l:\n",
        "    print(i)\n"
      ],
      "execution_count": null,
      "outputs": []
    },
    {
      "cell_type": "code",
      "metadata": {
        "id": "KBDuNuYNWQb7"
      },
      "source": [
        "for x in [1,2,3]:\n",
        "    print(x)"
      ],
      "execution_count": null,
      "outputs": []
    },
    {
      "cell_type": "code",
      "metadata": {
        "id": "9yVXXBXPWQb7"
      },
      "source": [
        "for n in range(4):\n",
        "    print(n)"
      ],
      "execution_count": null,
      "outputs": []
    },
    {
      "cell_type": "markdown",
      "metadata": {
        "id": "YSd3xOBPWe_N"
      },
      "source": [
        "## Listas por comprensión"
      ]
    },
    {
      "cell_type": "code",
      "metadata": {
        "id": "BqfBf1mvXMiy"
      },
      "source": [
        "habitaciones = [i for i in range (200, 215) if i%2 != 0]\n",
        "habitaciones"
      ],
      "execution_count": null,
      "outputs": []
    },
    {
      "cell_type": "code",
      "metadata": {
        "id": "f-oQKs7BYM-y"
      },
      "source": [
        "habitaciones[0]"
      ],
      "execution_count": null,
      "outputs": []
    },
    {
      "cell_type": "markdown",
      "metadata": {
        "id": "WBUnk5T7YyKk"
      },
      "source": [
        "## Dicionarios"
      ]
    },
    {
      "cell_type": "code",
      "metadata": {
        "id": "WLmCXEW-YyKk"
      },
      "source": [
        "habitacion = {'Patricia': 201, 'Luis': 207, 'Oscar':213,'Renata': 209}\n",
        "habitacion"
      ],
      "execution_count": null,
      "outputs": []
    },
    {
      "cell_type": "code",
      "metadata": {
        "id": "EJIN2tr0ZLd0"
      },
      "source": [
        "habitacion.keys()"
      ],
      "execution_count": null,
      "outputs": []
    },
    {
      "cell_type": "code",
      "metadata": {
        "id": "OP4OaWVOZOQ-"
      },
      "source": [
        "habitacion.items()"
      ],
      "execution_count": null,
      "outputs": []
    },
    {
      "cell_type": "code",
      "metadata": {
        "id": "s660WJaSZFqm"
      },
      "source": [
        "# Los elementos de un diccionario se acceden con la clave\n",
        "habitacion['Patricia']"
      ],
      "execution_count": null,
      "outputs": []
    },
    {
      "cell_type": "code",
      "metadata": {
        "id": "y7SnE8FLZC63"
      },
      "source": [
        "# ¿por qué ocurre el siguiente error?\n",
        "habitacion[0]"
      ],
      "execution_count": null,
      "outputs": []
    },
    {
      "cell_type": "markdown",
      "metadata": {
        "id": "BYRzCBHlWQb7"
      },
      "source": [
        "## Funciones\n",
        "\n",
        "En Python una función es definida usando la palabra clave `def`, seguida de un nombre para la función, una variable entre paréntesis `()`, y el símbolo de dos puntos `:`. El siguiente código, con un nivel adicional de indentación, es el cuerpo de la función."
      ]
    },
    {
      "cell_type": "code",
      "metadata": {
        "id": "lty4orUtWQb7"
      },
      "source": [
        "def cuadrado(x):\n",
        "    \"\"\"\n",
        "    Calcula el cuadrado de x.\n",
        "    \"\"\"\n",
        "    return x**2"
      ],
      "execution_count": null,
      "outputs": []
    },
    {
      "cell_type": "code",
      "metadata": {
        "id": "KfoViesTWQb7"
      },
      "source": [
        "z = 3\n",
        "cuadrado(z)"
      ],
      "execution_count": null,
      "outputs": []
    },
    {
      "cell_type": "markdown",
      "metadata": {
        "id": "KSuuA_-yWQb8"
      },
      "source": [
        "### Funciones sin nombre (funciones lambda)\n",
        "\n",
        "En Python podemos también crear funciones sin nombre, usando la palabra clave `lambda`:"
      ]
    },
    {
      "cell_type": "code",
      "metadata": {
        "id": "7gsEYzIQWQb8"
      },
      "source": [
        "f1 = lambda x: x**2\n",
        "f1(z)"
      ],
      "execution_count": null,
      "outputs": []
    },
    {
      "cell_type": "markdown",
      "metadata": {
        "id": "8-cCVPJQWQb8"
      },
      "source": [
        "## Clases\n",
        "\n",
        "Las clases son una característica clave de la programación orientada al objeto. Una clase es una estructura para representar un objeto y las operaciones que pueden ser realizadas sobre el objeto.\n",
        "\n",
        "En Python una clase puede contener *atributos* (variables) y *métodos* (funciones)."
      ]
    },
    {
      "cell_type": "markdown",
      "metadata": {
        "id": "D7gqvwrvWQb8"
      },
      "source": [
        "## Modulos\n",
        "\n",
        "La mayoría de la funcionalidad en Python es provista por *módulos*.\n",
        "\n",
        "Para usar un módulo en un programa Python éste debe primero ser **importado**, para lo cual se usa el comando `import`. Por ejemplo, para importar el módulo `math`, que contiene muchas funciones matemáticas estándar, podemos usar:"
      ]
    },
    {
      "cell_type": "code",
      "metadata": {
        "id": "Rc8VxN1lWQb8"
      },
      "source": [
        "import math\n",
        "\n",
        "x = math.cos(2*math.pi)\n",
        "\n",
        "print(x)"
      ],
      "execution_count": null,
      "outputs": []
    },
    {
      "cell_type": "code",
      "metadata": {
        "id": "sIOFDFKtWQb8"
      },
      "source": [
        "import math as m\n",
        "\n",
        "x = m.cos(2*m.pi)\n",
        "\n",
        "print(x)"
      ],
      "execution_count": null,
      "outputs": []
    },
    {
      "cell_type": "code",
      "metadata": {
        "id": "QDEji5JJWQb9"
      },
      "source": [
        "from math import *\n",
        "\n",
        "x = cos(2*pi)\n",
        "\n",
        "print(x)"
      ],
      "execution_count": null,
      "outputs": []
    },
    {
      "cell_type": "markdown",
      "metadata": {
        "id": "GAxMcG5XWQb9"
      },
      "source": [
        "## Numpy\n",
        "\n",
        "La librería Numpy nos permite usar funciones matemáticas de vectores y matrices. Está implementada en C y Fortran, por lo que este tipo de operaciones tiene un rendimiento muy bueno. A diferencia de las listas (una matriz, podría ser una lista anidada) para las que su comportamiento es dinámico, los arreglos de numpy son estáticos y homogeneos, lo que los vuelve muy eficientes en el uso de la memoria."
      ]
    },
    {
      "cell_type": "code",
      "metadata": {
        "id": "5Rjg9OK4WQb9"
      },
      "source": [
        "import numpy as np\n",
        "M = np.array([[1, 2], [3, 4]])\n",
        "M"
      ],
      "execution_count": null,
      "outputs": []
    },
    {
      "cell_type": "code",
      "metadata": {
        "id": "UDV46VAdWQb9"
      },
      "source": [
        "type(M)"
      ],
      "execution_count": null,
      "outputs": []
    },
    {
      "cell_type": "code",
      "metadata": {
        "id": "Q-k4hQKEWQb9"
      },
      "source": [
        "M = np.random.rand(4, 3)\n",
        "M"
      ],
      "execution_count": null,
      "outputs": []
    },
    {
      "cell_type": "code",
      "metadata": {
        "id": "6eSljQi2WQb9"
      },
      "source": [
        "M[1,:]              # fila 1"
      ],
      "execution_count": null,
      "outputs": []
    },
    {
      "cell_type": "code",
      "metadata": {
        "id": "f6vBGK3RWQb9"
      },
      "source": [
        "M[:,1]              # columna 1"
      ],
      "execution_count": null,
      "outputs": []
    },
    {
      "cell_type": "code",
      "metadata": {
        "id": "bkd3C7lAWQb9"
      },
      "source": [
        "vector = np.arange(0, 3)\n",
        "vector"
      ],
      "execution_count": null,
      "outputs": []
    },
    {
      "cell_type": "code",
      "metadata": {
        "id": "gwKrPo_MWQb-"
      },
      "source": [
        "2*vector"
      ],
      "execution_count": null,
      "outputs": []
    },
    {
      "cell_type": "code",
      "metadata": {
        "id": "G10sKOEpWQb-"
      },
      "source": [
        "A = vector*M\n",
        "A"
      ],
      "execution_count": null,
      "outputs": []
    },
    {
      "cell_type": "code",
      "metadata": {
        "id": "d1BqigD2WQb-"
      },
      "source": [
        "A + 5"
      ],
      "execution_count": null,
      "outputs": []
    },
    {
      "cell_type": "code",
      "metadata": {
        "id": "a7jxkXS2WQb-"
      },
      "source": [
        "A*A"
      ],
      "execution_count": null,
      "outputs": []
    },
    {
      "cell_type": "code",
      "metadata": {
        "id": "0oxD6K1UWQb-"
      },
      "source": [
        "A.shape"
      ],
      "execution_count": null,
      "outputs": []
    }
  ]
}