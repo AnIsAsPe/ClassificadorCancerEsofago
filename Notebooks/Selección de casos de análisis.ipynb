{
  "nbformat": 4,
  "nbformat_minor": 0,
  "metadata": {
    "kernelspec": {
      "display_name": "Python 3",
      "language": "python",
      "name": "python3"
    },
    "language_info": {
      "codemirror_mode": {
        "name": "ipython",
        "version": 3
      },
      "file_extension": ".py",
      "mimetype": "text/x-python",
      "name": "python",
      "nbconvert_exporter": "python",
      "pygments_lexer": "ipython3",
      "version": "3.8.2"
    },
    "colab": {
      "name": "Selección de casos de análisis.ipynb",
      "provenance": [],
      "toc_visible": true
    }
  },
  "cells": [
    {
      "cell_type": "markdown",
      "metadata": {
        "id": "l-MdfIFVonxH"
      },
      "source": [
        "# 0. Selección de casos de análisis"
      ]
    },
    {
      "cell_type": "markdown",
      "metadata": {
        "id": "xGqXfTvkonxI"
      },
      "source": [
        "El conjunto de entrenamiento está formado por 94,446 imagenes adquiridas de 44 pacientes. El archivo TrainingSet_20aimVO.csv contiene el nombre de cada una de las imagenes y la clase a la que pertenece.\n",
        "\n",
        "Las clases contempladas son 4:\n",
        "0. Squamous epithelium (tejido saludable)\n",
        "1. Intestinal Metaplasia (tejido del esofajo que se ha transformado en tejido intestinal)\n",
        "2. Gastric Metaplasia (tejido gastrico cercano a la unión con el esófago)\n",
        "3. Displasya/Cancer (celulas pre-cancerosas/Cáncer)\n",
        "\n",
        "Para nuestro clasificador binomial utilizaremos solamente las imagenes de tejido sano y de células pre-cancerígenas o cancerígenas.\n",
        "\n",
        "El presente Notebook crea un subconjunto de imágenes reducidas a la mitad del tamaño, con los casos que usaremos en el clasificador con Perceptrón.\n"
      ]
    },
    {
      "cell_type": "markdown",
      "metadata": {
        "id": "Lh1ajBFzonxJ"
      },
      "source": [
        "## Paso 1. Cargar librerías y módulos requerdidos"
      ]
    },
    {
      "cell_type": "code",
      "metadata": {
        "id": "hFOBPY7vonxK"
      },
      "source": [
        "import os\n",
        "import random\n",
        "import numpy as np\n",
        "import pandas as pd\n",
        "from skimage.transform import rescale\n",
        "from skimage import io\n",
        "import matplotlib.pyplot as plt\n",
        "from matplotlib import image\n",
        "\n",
        "%matplotlib inline"
      ],
      "execution_count": null,
      "outputs": []
    },
    {
      "cell_type": "markdown",
      "metadata": {
        "id": "mJ29XidconxN"
      },
      "source": [
        "## Paso 2. Lectura de datos.\n",
        "\n",
        "- imágenes(X)\n",
        "- etiquetas(Y)."
      ]
    },
    {
      "cell_type": "code",
      "metadata": {
        "id": "YzH3nFaVonxO"
      },
      "source": [
        "path = 'C:\\\\Users\\\\anais\\\\Documents\\\\Datos\\\\Cáncer Esofago_challenge 11\\\\'\n",
        "train_df = pd.read_csv(path+\"TrainingSet_20aimVO.csv\")"
      ],
      "execution_count": null,
      "outputs": []
    },
    {
      "cell_type": "code",
      "metadata": {
        "id": "o5m5fqE3onxQ",
        "outputId": "1fde5977-0d1b-44fe-caec-83811b580f5f"
      },
      "source": [
        "train_df.head()"
      ],
      "execution_count": null,
      "outputs": [
        {
          "output_type": "execute_result",
          "data": {
            "text/html": [
              "<div>\n",
              "<style scoped>\n",
              "    .dataframe tbody tr th:only-of-type {\n",
              "        vertical-align: middle;\n",
              "    }\n",
              "\n",
              "    .dataframe tbody tr th {\n",
              "        vertical-align: top;\n",
              "    }\n",
              "\n",
              "    .dataframe thead th {\n",
              "        text-align: right;\n",
              "    }\n",
              "</style>\n",
              "<table border=\"1\" class=\"dataframe\">\n",
              "  <thead>\n",
              "    <tr style=\"text-align: right;\">\n",
              "      <th></th>\n",
              "      <th>image_filename</th>\n",
              "      <th>class_number</th>\n",
              "    </tr>\n",
              "  </thead>\n",
              "  <tbody>\n",
              "    <tr>\n",
              "      <th>0</th>\n",
              "      <td>im_4_0.png</td>\n",
              "      <td>0</td>\n",
              "    </tr>\n",
              "    <tr>\n",
              "      <th>1</th>\n",
              "      <td>im_21_0.png</td>\n",
              "      <td>0</td>\n",
              "    </tr>\n",
              "    <tr>\n",
              "      <th>2</th>\n",
              "      <td>im_9_0.png</td>\n",
              "      <td>0</td>\n",
              "    </tr>\n",
              "    <tr>\n",
              "      <th>3</th>\n",
              "      <td>im_8_0.png</td>\n",
              "      <td>0</td>\n",
              "    </tr>\n",
              "    <tr>\n",
              "      <th>4</th>\n",
              "      <td>im_15_0.png</td>\n",
              "      <td>0</td>\n",
              "    </tr>\n",
              "  </tbody>\n",
              "</table>\n",
              "</div>"
            ],
            "text/plain": [
              "  image_filename  class_number\n",
              "0     im_4_0.png             0\n",
              "1    im_21_0.png             0\n",
              "2     im_9_0.png             0\n",
              "3     im_8_0.png             0\n",
              "4    im_15_0.png             0"
            ]
          },
          "metadata": {
            "tags": []
          },
          "execution_count": 73
        }
      ]
    },
    {
      "cell_type": "code",
      "metadata": {
        "id": "gIb2en5MonxT",
        "outputId": "0d55031f-4d3d-4c8b-be4a-0290e81654c8"
      },
      "source": [
        "train_df['class_number'].value_counts(sort=False)"
      ],
      "execution_count": null,
      "outputs": [
        {
          "output_type": "execute_result",
          "data": {
            "text/plain": [
              "0    1469\n",
              "1    3177\n",
              "2    1206\n",
              "3    3594\n",
              "Name: class_number, dtype: int64"
            ]
          },
          "metadata": {
            "tags": []
          },
          "execution_count": 69
        }
      ]
    },
    {
      "cell_type": "code",
      "metadata": {
        "id": "c8xhBFn8onxV",
        "outputId": "5a7b87ce-4141-4a21-ea4e-fc175d314456"
      },
      "source": [
        "train_df.shape"
      ],
      "execution_count": null,
      "outputs": [
        {
          "output_type": "execute_result",
          "data": {
            "text/plain": [
              "(9446, 2)"
            ]
          },
          "metadata": {
            "tags": []
          },
          "execution_count": 70
        }
      ]
    },
    {
      "cell_type": "markdown",
      "metadata": {
        "id": "cVqXrXhIonxX"
      },
      "source": [
        "### 2.1  Seleccionamos las imagenes de tejido sano y tejido con cancer"
      ]
    },
    {
      "cell_type": "code",
      "metadata": {
        "id": "IlW5cqOvonxX",
        "outputId": "40d9a2c9-8594-4c0b-e95f-8c556b534ea0"
      },
      "source": [
        "dat = train_df[(train_df.class_number == 0) |(train_df.class_number == 3 )]  #Seleccionamos solamente las imagenes de tejido\n",
        "                                                                               #sano y tejido con cancer\n",
        "dat = dat.replace(3,1)   #Renombramos la clase 3 como clase 1\n",
        "\n",
        "dat.shape"
      ],
      "execution_count": null,
      "outputs": [
        {
          "output_type": "execute_result",
          "data": {
            "text/plain": [
              "(5063, 2)"
            ]
          },
          "metadata": {
            "tags": []
          },
          "execution_count": 74
        }
      ]
    },
    {
      "cell_type": "code",
      "metadata": {
        "id": "id0CRiMIonxa",
        "outputId": "e77c8f4c-4f88-4332-8d54-2e7506449c67"
      },
      "source": [
        "dat.head()"
      ],
      "execution_count": null,
      "outputs": [
        {
          "output_type": "execute_result",
          "data": {
            "text/html": [
              "<div>\n",
              "<style scoped>\n",
              "    .dataframe tbody tr th:only-of-type {\n",
              "        vertical-align: middle;\n",
              "    }\n",
              "\n",
              "    .dataframe tbody tr th {\n",
              "        vertical-align: top;\n",
              "    }\n",
              "\n",
              "    .dataframe thead th {\n",
              "        text-align: right;\n",
              "    }\n",
              "</style>\n",
              "<table border=\"1\" class=\"dataframe\">\n",
              "  <thead>\n",
              "    <tr style=\"text-align: right;\">\n",
              "      <th></th>\n",
              "      <th>image_filename</th>\n",
              "      <th>class_number</th>\n",
              "    </tr>\n",
              "  </thead>\n",
              "  <tbody>\n",
              "    <tr>\n",
              "      <th>0</th>\n",
              "      <td>im_4_0.png</td>\n",
              "      <td>0</td>\n",
              "    </tr>\n",
              "    <tr>\n",
              "      <th>1</th>\n",
              "      <td>im_21_0.png</td>\n",
              "      <td>0</td>\n",
              "    </tr>\n",
              "    <tr>\n",
              "      <th>2</th>\n",
              "      <td>im_9_0.png</td>\n",
              "      <td>0</td>\n",
              "    </tr>\n",
              "    <tr>\n",
              "      <th>3</th>\n",
              "      <td>im_8_0.png</td>\n",
              "      <td>0</td>\n",
              "    </tr>\n",
              "    <tr>\n",
              "      <th>4</th>\n",
              "      <td>im_15_0.png</td>\n",
              "      <td>0</td>\n",
              "    </tr>\n",
              "  </tbody>\n",
              "</table>\n",
              "</div>"
            ],
            "text/plain": [
              "  image_filename  class_number\n",
              "0     im_4_0.png             0\n",
              "1    im_21_0.png             0\n",
              "2     im_9_0.png             0\n",
              "3     im_8_0.png             0\n",
              "4    im_15_0.png             0"
            ]
          },
          "metadata": {
            "tags": []
          },
          "execution_count": 75
        }
      ]
    },
    {
      "cell_type": "code",
      "metadata": {
        "id": "irh_5bltonxd",
        "outputId": "db8245e1-0a11-4030-acb8-ad7d8af3acf1"
      },
      "source": [
        "dat.class_number.value_counts(sort=False)"
      ],
      "execution_count": null,
      "outputs": [
        {
          "output_type": "execute_result",
          "data": {
            "text/plain": [
              "0    1469\n",
              "1    3594\n",
              "Name: class_number, dtype: int64"
            ]
          },
          "metadata": {
            "tags": []
          },
          "execution_count": 56
        }
      ]
    },
    {
      "cell_type": "code",
      "metadata": {
        "id": "xor0cEv3onxf",
        "outputId": "77907969-86cb-4a4b-e35e-cbcc3a6a7d22"
      },
      "source": [
        "dat.image_filename.nunique()"
      ],
      "execution_count": null,
      "outputs": [
        {
          "output_type": "execute_result",
          "data": {
            "text/plain": [
              "5063"
            ]
          },
          "metadata": {
            "tags": []
          },
          "execution_count": 57
        }
      ]
    },
    {
      "cell_type": "code",
      "metadata": {
        "id": "Ouz0gYAronxh"
      },
      "source": [
        "dat = dat.reset_index(drop=True)"
      ],
      "execution_count": null,
      "outputs": []
    },
    {
      "cell_type": "code",
      "metadata": {
        "id": "rCibTV0Gonxi"
      },
      "source": [
        "\n",
        "dat.to_csv('ClasesImagenes.csv',index=False)"
      ],
      "execution_count": null,
      "outputs": []
    },
    {
      "cell_type": "markdown",
      "metadata": {
        "id": "72dgy5KRonxm"
      },
      "source": [
        "### 2.2  Exploramos el formato de las imagenes mediante un ejemplo"
      ]
    },
    {
      "cell_type": "markdown",
      "metadata": {
        "id": "T2geQihQonxm"
      },
      "source": [
        "Cuando cargamos una imagen a color, el objeto resultante es una matriz de tres dimensiones, que representa de manera eficiente el nivel de cada pixel entre 0 y 255 (256 niveles discretos de color son suficientes para la percepción del ojo humano)"
      ]
    },
    {
      "cell_type": "code",
      "metadata": {
        "id": "nYHq50w8onxn"
      },
      "source": [
        "datos=dat"
      ],
      "execution_count": null,
      "outputs": []
    },
    {
      "cell_type": "code",
      "metadata": {
        "id": "iYCVll5Konxo",
        "outputId": "ab2a85a2-1ba2-48e2-e943-fa3b65853ab2"
      },
      "source": [
        "image_path = \"C:\\\\Users\\\\anais\\\\Documents\\\\Datos\\\\Cáncer Esofago_challenge 11\\\\TrainingSetImagesDir\"\n",
        "datos['image_filename'] = dat['image_filename'].apply(lambda x: [os.path.join(image_path, x)])\n",
        "datos['image_filename'] = dat['image_filename'].str.get(0)\n",
        "\n",
        "datos.head()"
      ],
      "execution_count": null,
      "outputs": [
        {
          "output_type": "execute_result",
          "data": {
            "text/html": [
              "<div>\n",
              "<style scoped>\n",
              "    .dataframe tbody tr th:only-of-type {\n",
              "        vertical-align: middle;\n",
              "    }\n",
              "\n",
              "    .dataframe tbody tr th {\n",
              "        vertical-align: top;\n",
              "    }\n",
              "\n",
              "    .dataframe thead th {\n",
              "        text-align: right;\n",
              "    }\n",
              "</style>\n",
              "<table border=\"1\" class=\"dataframe\">\n",
              "  <thead>\n",
              "    <tr style=\"text-align: right;\">\n",
              "      <th></th>\n",
              "      <th>image_filename</th>\n",
              "      <th>class_number</th>\n",
              "    </tr>\n",
              "  </thead>\n",
              "  <tbody>\n",
              "    <tr>\n",
              "      <th>0</th>\n",
              "      <td>C:\\Users\\anais\\Documents\\Datos\\Cáncer Esofago_...</td>\n",
              "      <td>0</td>\n",
              "    </tr>\n",
              "    <tr>\n",
              "      <th>1</th>\n",
              "      <td>C:\\Users\\anais\\Documents\\Datos\\Cáncer Esofago_...</td>\n",
              "      <td>0</td>\n",
              "    </tr>\n",
              "    <tr>\n",
              "      <th>2</th>\n",
              "      <td>C:\\Users\\anais\\Documents\\Datos\\Cáncer Esofago_...</td>\n",
              "      <td>0</td>\n",
              "    </tr>\n",
              "    <tr>\n",
              "      <th>3</th>\n",
              "      <td>C:\\Users\\anais\\Documents\\Datos\\Cáncer Esofago_...</td>\n",
              "      <td>0</td>\n",
              "    </tr>\n",
              "    <tr>\n",
              "      <th>4</th>\n",
              "      <td>C:\\Users\\anais\\Documents\\Datos\\Cáncer Esofago_...</td>\n",
              "      <td>0</td>\n",
              "    </tr>\n",
              "  </tbody>\n",
              "</table>\n",
              "</div>"
            ],
            "text/plain": [
              "                                      image_filename  class_number\n",
              "0  C:\\Users\\anais\\Documents\\Datos\\Cáncer Esofago_...             0\n",
              "1  C:\\Users\\anais\\Documents\\Datos\\Cáncer Esofago_...             0\n",
              "2  C:\\Users\\anais\\Documents\\Datos\\Cáncer Esofago_...             0\n",
              "3  C:\\Users\\anais\\Documents\\Datos\\Cáncer Esofago_...             0\n",
              "4  C:\\Users\\anais\\Documents\\Datos\\Cáncer Esofago_...             0"
            ]
          },
          "metadata": {
            "tags": []
          },
          "execution_count": 61
        }
      ]
    },
    {
      "cell_type": "code",
      "metadata": {
        "id": "weq0GML3onxq"
      },
      "source": [
        "ejem = io.imread(datos['image_filename'][2693])"
      ],
      "execution_count": null,
      "outputs": []
    },
    {
      "cell_type": "code",
      "metadata": {
        "id": "3hjkgw1oonxs",
        "outputId": "1f44b8aa-1747-4998-951a-2386414a6fee"
      },
      "source": [
        "io.imshow(ejem)\n",
        "plt.show()"
      ],
      "execution_count": null,
      "outputs": [
        {
          "output_type": "display_data",
          "data": {
            "image/png": "[encoded data removed]",
            "text/plain": [
              "<Figure size 432x288 with 1 Axes>"
            ]
          },
          "metadata": {
            "tags": [],
            "needs_background": "light"
          }
        }
      ]
    },
    {
      "cell_type": "code",
      "metadata": {
        "id": "NbHrvnVponxu",
        "outputId": "39291daf-ac4a-4cf5-a5ef-820f28a8f1ce"
      },
      "source": [
        "#Revisamos la dimensión que tiene una sola imagén, en este caso es la primera\n",
        "ejem.shape\n"
      ],
      "execution_count": null,
      "outputs": [
        {
          "output_type": "execute_result",
          "data": {
            "text/plain": [
              "(519, 521, 3)"
            ]
          },
          "metadata": {
            "tags": []
          },
          "execution_count": 81
        }
      ]
    },
    {
      "cell_type": "markdown",
      "metadata": {
        "id": "WHfCFJwMonxv"
      },
      "source": [
        "\n",
        " «How to Convert a Picture to Numbers». Accedido 12 de mayo de 2020. https://e2eml.school/images_to_numbers.html."
      ]
    },
    {
      "cell_type": "markdown",
      "metadata": {
        "id": "gQpxN5xeonxw"
      },
      "source": [
        "- Dimensión 0: 519 renglones de pixeles de arriba a abajo\n",
        "- Dimension 1: 521 columnas de pixeles de izquierda a derecha\n",
        "- Dimension 2: 3 Canales de color (rojo, verde y azul en ese orden) (RGB)"
      ]
    },
    {
      "cell_type": "code",
      "metadata": {
        "id": "Mz3E8358onxw",
        "outputId": "f11c9e9a-ed6c-45db-8f98-3b0173e71a13"
      },
      "source": [
        "# Explorando los colores de un pixel cualquiera de la primera imagen.\n",
        "ejem[240][51]\n"
      ],
      "execution_count": null,
      "outputs": [
        {
          "output_type": "execute_result",
          "data": {
            "text/plain": [
              "array([53, 53, 53], dtype=uint8)"
            ]
          },
          "metadata": {
            "tags": []
          },
          "execution_count": 49
        }
      ]
    },
    {
      "cell_type": "markdown",
      "metadata": {
        "id": "9J49ydwBonxy"
      },
      "source": [
        "Probar la linea anterior con distintos pixeles"
      ]
    },
    {
      "cell_type": "markdown",
      "metadata": {
        "id": "FaD4f-qJonxy"
      },
      "source": [
        "Cuando los valores de los tres canales del color RGB son idénticos, se obtiene un tono de gris entre 0 equivalente a negro y 255 equivalente a banco."
      ]
    },
    {
      "cell_type": "markdown",
      "metadata": {
        "id": "BlJsK6bconxy"
      },
      "source": [
        "### 2.3 Cargamos todas las imágenes de tejido sano y tejido con cáncer"
      ]
    },
    {
      "cell_type": "code",
      "metadata": {
        "id": "8m6m3ugAonxy",
        "outputId": "ba879821-b39e-4e83-eeff-34cf165925c0"
      },
      "source": [
        "# Cargamos las imagenes del conjunto d entrenamiento como lista de matrices\n",
        "# o arreglo de números (np.arrays).\n",
        "\n",
        "%time img= [io.imread(i, as_gray=True) for i in datos['image_filename'][:]]\n"
      ],
      "execution_count": null,
      "outputs": [
        {
          "output_type": "stream",
          "text": [
            "Wall time: 3min 37s\n"
          ],
          "name": "stdout"
        }
      ]
    },
    {
      "cell_type": "code",
      "metadata": {
        "id": "iHGwV2CVonx0",
        "outputId": "1cece678-8f10-4ec6-fe3a-5cfcb7175781"
      },
      "source": [
        "len(img)"
      ],
      "execution_count": null,
      "outputs": [
        {
          "output_type": "execute_result",
          "data": {
            "text/plain": [
              "5063"
            ]
          },
          "metadata": {
            "tags": []
          },
          "execution_count": 20
        }
      ]
    },
    {
      "cell_type": "code",
      "metadata": {
        "id": "tJp9NTgEonx2",
        "outputId": "204972e0-05ab-4ce6-934e-b48138f9ab41"
      },
      "source": [
        "%%time\n",
        "\n",
        "img_scl = []\n",
        "for i in range (len(img)):\n",
        "    scl = rescale(img[i] , 1/2)\n",
        "    img_scl.append(scl)"
      ],
      "execution_count": null,
      "outputs": [
        {
          "output_type": "stream",
          "text": [
            "Wall time: 7min 10s\n"
          ],
          "name": "stdout"
        }
      ]
    },
    {
      "cell_type": "code",
      "metadata": {
        "scrolled": false,
        "id": "qm_3_616onx4",
        "outputId": "2e9a14cf-056f-4e47-9ac2-f74816f09e98"
      },
      "source": [
        "%%time\n",
        "for i in range(len(img)):\n",
        "    image.imsave( ('datosCancer/CarpetaImagenes/'+dat.image_filename[i]), img_scl[i])"
      ],
      "execution_count": null,
      "outputs": [
        {
          "output_type": "stream",
          "text": [
            "Wall time: 3min 51s\n"
          ],
          "name": "stdout"
        }
      ]
    }
  ]
}