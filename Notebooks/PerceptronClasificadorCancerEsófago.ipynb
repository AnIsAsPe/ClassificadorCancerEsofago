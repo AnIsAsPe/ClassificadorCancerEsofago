{
  "nbformat": 4,
  "nbformat_minor": 0,
  "metadata": {
    "kernelspec": {
      "display_name": "Python 3",
      "language": "python",
      "name": "python3"
    },
    "language_info": {
      "codemirror_mode": {
        "name": "ipython",
        "version": 3
      },
      "file_extension": ".py",
      "mimetype": "text/x-python",
      "name": "python",
      "nbconvert_exporter": "python",
      "pygments_lexer": "ipython3",
      "version": "3.8.2"
    },
    "colab": {
      "name": "PerceptronClasificadorCancerEsófago.ipynb",
      "provenance": [],
      "machine_shape": "hm",
      "include_colab_link": true
    }
  },
  "cells": [
    {
      "cell_type": "markdown",
      "metadata": {
        "id": "view-in-github",
        "colab_type": "text"
      },
      "source": [
        "<a href=\"https://colab.research.google.com/github/AnIsAsPe/ClassificadorCancerEsofago/blob/master/Notebooks/PerceptronClasificadorCancerEs%C3%B3fago.ipynb\" target=\"_parent\"><img src=\"https://colab.research.google.com/assets/colab-badge.svg\" alt=\"Open In Colab\"/></a>"
      ]
    },
    {
      "cell_type": "markdown",
      "metadata": {
        "id": "9Iz2utpRdeg1"
      },
      "source": [
        "# Clasificador de tejido sano y tejido cancerígeno en imagenes microscópicas del esófago"
      ]
    },
    {
      "cell_type": "markdown",
      "metadata": {
        "id": "g8MWGx2Ydeg2"
      },
      "source": [
        "![image.png](https://drive.google.com/uc?id=1K_j4CnOJeOmiROBiFwEW1M-kJkizrMk7)"
      ]
    },
    {
      "cell_type": "markdown",
      "metadata": {
        "id": "euiFkCOldeg3"
      },
      "source": [
        "## Paso 1. Cargar librerías y módulos requerdidos"
      ]
    },
    {
      "cell_type": "code",
      "metadata": {
        "id": "0DXj8iGLdeg3"
      },
      "source": [
        "import os            # módulo para manejar carpetas y archivos en nuestro ordenador\n",
        "import random        # módulo para aleatorizar\n",
        "import pickle        # módulo para respaldar objetos de pyhton como cadenas de bytes \n",
        "                     # (serialización de objetos).\n",
        "\n",
        "import numpy as np   # biblioteca para manejar matrices y operaciones de matrices \n",
        "import pandas as pd  # biblioteca para manejar tablas de datos\n",
        "\n",
        "#Skimage (Scikit-image): biblioteca para procesamiento de imágenes\n",
        "from skimage import io  #Modulo para leer una imagen (librería para procesamiento de imagenes)\n",
        "\n",
        "#Sklearn (Scikit-learn): biblioteca para machine learning \n",
        "from sklearn.model_selection import train_test_split   \n",
        "from sklearn.linear_model import Perceptron \n",
        "from sklearn.metrics import accuracy_score\n",
        "\n",
        "#Bibliotecas para gráficar y visualizar\n",
        "import matplotlib.pyplot as plt        \n",
        "import seaborn as sns   "
      ],
      "execution_count": 1,
      "outputs": []
    },
    {
      "cell_type": "markdown",
      "metadata": {
        "id": "2pk-KjXHdeg6"
      },
      "source": [
        "## Paso 2. Lectura de datos. "
      ]
    },
    {
      "cell_type": "markdown",
      "metadata": {
        "id": "YdYnDKMIdeg7"
      },
      "source": [
        "### 2.1 Lectura de etiquetas (Y)"
      ]
    },
    {
      "cell_type": "code",
      "metadata": {
        "id": "fudeTyr-deg8"
      },
      "source": [
        "#Leemos los datos\n",
        "\n",
        "datos = pd.read_csv(\"https://raw.githubusercontent.com/AnIsAsPe/ClassificadorCancerEsofago/master/Datos/ClasesImagenes.csv\", usecols=[1,2])\n"
      ],
      "execution_count": 2,
      "outputs": []
    },
    {
      "cell_type": "code",
      "source": [
        "type(datos)"
      ],
      "metadata": {
        "id": "xWEA70XoOjLt",
        "outputId": "a2784806-9cd7-4e69-8a0d-20b05f888544",
        "colab": {
          "base_uri": "https://localhost:8080/"
        }
      },
      "execution_count": 3,
      "outputs": [
        {
          "output_type": "execute_result",
          "data": {
            "text/plain": [
              "pandas.core.frame.DataFrame"
            ]
          },
          "metadata": {},
          "execution_count": 3
        }
      ]
    },
    {
      "cell_type": "code",
      "metadata": {
        "id": "aESlr9b5deg_",
        "colab": {
          "base_uri": "https://localhost:8080/",
          "height": 206
        },
        "outputId": "1d5eabee-81b6-4300-a17c-60c146e1aa52"
      },
      "source": [
        "datos.head()  #muestra los primeros cinco registros"
      ],
      "execution_count": 4,
      "outputs": [
        {
          "output_type": "execute_result",
          "data": {
            "text/html": [
              "\n",
              "  <div id=\"df-8fd1a679-c56f-4fdd-847b-24e715bd71d5\">\n",
              "    <div class=\"colab-df-container\">\n",
              "      <div>\n",
              "<style scoped>\n",
              "    .dataframe tbody tr th:only-of-type {\n",
              "        vertical-align: middle;\n",
              "    }\n",
              "\n",
              "    .dataframe tbody tr th {\n",
              "        vertical-align: top;\n",
              "    }\n",
              "\n",
              "    .dataframe thead th {\n",
              "        text-align: right;\n",
              "    }\n",
              "</style>\n",
              "<table border=\"1\" class=\"dataframe\">\n",
              "  <thead>\n",
              "    <tr style=\"text-align: right;\">\n",
              "      <th></th>\n",
              "      <th>image_filename</th>\n",
              "      <th>class_number</th>\n",
              "    </tr>\n",
              "  </thead>\n",
              "  <tbody>\n",
              "    <tr>\n",
              "      <th>0</th>\n",
              "      <td>im_4_0.png</td>\n",
              "      <td>0</td>\n",
              "    </tr>\n",
              "    <tr>\n",
              "      <th>1</th>\n",
              "      <td>im_21_0.png</td>\n",
              "      <td>0</td>\n",
              "    </tr>\n",
              "    <tr>\n",
              "      <th>2</th>\n",
              "      <td>im_9_0.png</td>\n",
              "      <td>0</td>\n",
              "    </tr>\n",
              "    <tr>\n",
              "      <th>3</th>\n",
              "      <td>im_8_0.png</td>\n",
              "      <td>0</td>\n",
              "    </tr>\n",
              "    <tr>\n",
              "      <th>4</th>\n",
              "      <td>im_15_0.png</td>\n",
              "      <td>0</td>\n",
              "    </tr>\n",
              "  </tbody>\n",
              "</table>\n",
              "</div>\n",
              "      <button class=\"colab-df-convert\" onclick=\"convertToInteractive('df-8fd1a679-c56f-4fdd-847b-24e715bd71d5')\"\n",
              "              title=\"Convert this dataframe to an interactive table.\"\n",
              "              style=\"display:none;\">\n",
              "        \n",
              "  <svg xmlns=\"http://www.w3.org/2000/svg\" height=\"24px\"viewBox=\"0 0 24 24\"\n",
              "       width=\"24px\">\n",
              "    <path d=\"M0 0h24v24H0V0z\" fill=\"none\"/>\n",
              "    <path d=\"M18.56 5.44l.94 2.06.94-2.06 2.06-.94-2.06-.94-.94-2.06-.94 2.06-2.06.94zm-11 1L8.5 8.5l.94-2.06 2.06-.94-2.06-.94L8.5 2.5l-.94 2.06-2.06.94zm10 10l.94 2.06.94-2.06 2.06-.94-2.06-.94-.94-2.06-.94 2.06-2.06.94z\"/><path d=\"M17.41 7.96l-1.37-1.37c-.4-.4-.92-.59-1.43-.59-.52 0-1.04.2-1.43.59L10.3 9.45l-7.72 7.72c-.78.78-.78 2.05 0 2.83L4 21.41c.39.39.9.59 1.41.59.51 0 1.02-.2 1.41-.59l7.78-7.78 2.81-2.81c.8-.78.8-2.07 0-2.86zM5.41 20L4 18.59l7.72-7.72 1.47 1.35L5.41 20z\"/>\n",
              "  </svg>\n",
              "      </button>\n",
              "      \n",
              "  <style>\n",
              "    .colab-df-container {\n",
              "      display:flex;\n",
              "      flex-wrap:wrap;\n",
              "      gap: 12px;\n",
              "    }\n",
              "\n",
              "    .colab-df-convert {\n",
              "      background-color: #E8F0FE;\n",
              "      border: none;\n",
              "      border-radius: 50%;\n",
              "      cursor: pointer;\n",
              "      display: none;\n",
              "      fill: #1967D2;\n",
              "      height: 32px;\n",
              "      padding: 0 0 0 0;\n",
              "      width: 32px;\n",
              "    }\n",
              "\n",
              "    .colab-df-convert:hover {\n",
              "      background-color: #E2EBFA;\n",
              "      box-shadow: 0px 1px 2px rgba(60, 64, 67, 0.3), 0px 1px 3px 1px rgba(60, 64, 67, 0.15);\n",
              "      fill: #174EA6;\n",
              "    }\n",
              "\n",
              "    [theme=dark] .colab-df-convert {\n",
              "      background-color: #3B4455;\n",
              "      fill: #D2E3FC;\n",
              "    }\n",
              "\n",
              "    [theme=dark] .colab-df-convert:hover {\n",
              "      background-color: #434B5C;\n",
              "      box-shadow: 0px 1px 3px 1px rgba(0, 0, 0, 0.15);\n",
              "      filter: drop-shadow(0px 1px 2px rgba(0, 0, 0, 0.3));\n",
              "      fill: #FFFFFF;\n",
              "    }\n",
              "  </style>\n",
              "\n",
              "      <script>\n",
              "        const buttonEl =\n",
              "          document.querySelector('#df-8fd1a679-c56f-4fdd-847b-24e715bd71d5 button.colab-df-convert');\n",
              "        buttonEl.style.display =\n",
              "          google.colab.kernel.accessAllowed ? 'block' : 'none';\n",
              "\n",
              "        async function convertToInteractive(key) {\n",
              "          const element = document.querySelector('#df-8fd1a679-c56f-4fdd-847b-24e715bd71d5');\n",
              "          const dataTable =\n",
              "            await google.colab.kernel.invokeFunction('convertToInteractive',\n",
              "                                                     [key], {});\n",
              "          if (!dataTable) return;\n",
              "\n",
              "          const docLinkHtml = 'Like what you see? Visit the ' +\n",
              "            '<a target=\"_blank\" href=https://colab.research.google.com/notebooks/data_table.ipynb>data table notebook</a>'\n",
              "            + ' to learn more about interactive tables.';\n",
              "          element.innerHTML = '';\n",
              "          dataTable['output_type'] = 'display_data';\n",
              "          await google.colab.output.renderOutput(dataTable, element);\n",
              "          const docLink = document.createElement('div');\n",
              "          docLink.innerHTML = docLinkHtml;\n",
              "          element.appendChild(docLink);\n",
              "        }\n",
              "      </script>\n",
              "    </div>\n",
              "  </div>\n",
              "  "
            ],
            "text/plain": [
              "  image_filename  class_number\n",
              "0     im_4_0.png             0\n",
              "1    im_21_0.png             0\n",
              "2     im_9_0.png             0\n",
              "3     im_8_0.png             0\n",
              "4    im_15_0.png             0"
            ]
          },
          "metadata": {},
          "execution_count": 4
        }
      ]
    },
    {
      "cell_type": "code",
      "metadata": {
        "id": "zRxHji84dehC",
        "colab": {
          "base_uri": "https://localhost:8080/"
        },
        "outputId": "f18cfe62-4d2c-4b6b-df9e-c73c20591bbc"
      },
      "source": [
        "#¿Con cuántas imagenes vamos a trabajar?\n",
        "\n",
        "datos.shape[0]"
      ],
      "execution_count": 5,
      "outputs": [
        {
          "output_type": "execute_result",
          "data": {
            "text/plain": [
              "5063"
            ]
          },
          "metadata": {},
          "execution_count": 5
        }
      ]
    },
    {
      "cell_type": "code",
      "metadata": {
        "id": "yBu1Rt4udehE",
        "colab": {
          "base_uri": "https://localhost:8080/"
        },
        "outputId": "4c6d651e-04d6-449d-f6a6-15d4fac6f5fa"
      },
      "source": [
        "#¿cuántas imagenes tenemos de cada clase?\n",
        "\n",
        "datos['class_number'].value_counts(sort=False)  "
      ],
      "execution_count": 6,
      "outputs": [
        {
          "output_type": "execute_result",
          "data": {
            "text/plain": [
              "0    1469\n",
              "1    3594\n",
              "Name: class_number, dtype: int64"
            ]
          },
          "metadata": {},
          "execution_count": 6
        }
      ]
    },
    {
      "cell_type": "markdown",
      "metadata": {
        "id": "_1qbEXDsdehH"
      },
      "source": [
        "Clase 0 corresponde a tejido sano y Clase 1 a tejido Cancerígeno"
      ]
    },
    {
      "cell_type": "code",
      "metadata": {
        "id": "7ZlgSWF1dehH"
      },
      "source": [
        "Y = datos['class_number']  #Guardamos las etiquetas de las imagenes como serie de pandas\n"
      ],
      "execution_count": 7,
      "outputs": []
    },
    {
      "cell_type": "markdown",
      "metadata": {
        "id": "F2_U4C27dehK"
      },
      "source": [
        "### 2.2 Lectura de imágenes (X)"
      ]
    },
    {
      "cell_type": "markdown",
      "metadata": {
        "id": "mMfeIr6W_uzl"
      },
      "source": [
        "**Lo primero que tenemos que hacer es descomprimir el archivo zip que guardamos en nuestro dirve**"
      ]
    },
    {
      "cell_type": "code",
      "metadata": {
        "id": "HVL29gtw8i6H"
      },
      "source": [
        "\n",
        "# !unzip -u \"/content/drive/MyDrive/Datos/DatosCancer/CarpetaImagenes.zip\" -d \"/content/drive/MyDrive/Datos/DatosCancer/Unzip/\"\n"
      ],
      "execution_count": 8,
      "outputs": []
    },
    {
      "cell_type": "code",
      "metadata": {
        "id": "y6Sz6lv2AHQo",
        "colab": {
          "base_uri": "https://localhost:8080/"
        },
        "outputId": "35af35b9-86ae-445e-bd57-40777b0bad35"
      },
      "source": [
        "datos['image_filename'].head()"
      ],
      "execution_count": 9,
      "outputs": [
        {
          "output_type": "execute_result",
          "data": {
            "text/plain": [
              "0     im_4_0.png\n",
              "1    im_21_0.png\n",
              "2     im_9_0.png\n",
              "3     im_8_0.png\n",
              "4    im_15_0.png\n",
              "Name: image_filename, dtype: object"
            ]
          },
          "metadata": {},
          "execution_count": 9
        }
      ]
    },
    {
      "cell_type": "markdown",
      "source": [
        "**Vamos a leer la primera imagen, para ello además del nombre de la imagen, necesitamos añadir la ruta del directorio en donde se encuentra dicha imagen.**"
      ],
      "metadata": {
        "id": "55UUikGzx2en"
      }
    },
    {
      "cell_type": "code",
      "source": [
        "nombre_archivo = 'im_4_0.png'\n",
        "\n",
        "ruta = '/content/drive/MyDrive/Datos/DatosCancer/Unzip/'\n",
        "\n",
        "imagen = io.imread(ruta  + nombre_archivo, as_gray=True)"
      ],
      "metadata": {
        "id": "4mbwuW66xGsQ"
      },
      "execution_count": 10,
      "outputs": []
    },
    {
      "cell_type": "code",
      "source": [
        "# ¿qué tipo de objeto es imagen?\n",
        "type(imagen)"
      ],
      "metadata": {
        "id": "lBm00IMPxoIK",
        "outputId": "b16feed5-6d18-4e93-a316-45338fe05eb1",
        "colab": {
          "base_uri": "https://localhost:8080/"
        }
      },
      "execution_count": 11,
      "outputs": [
        {
          "output_type": "execute_result",
          "data": {
            "text/plain": [
              "numpy.ndarray"
            ]
          },
          "metadata": {},
          "execution_count": 11
        }
      ]
    },
    {
      "cell_type": "code",
      "source": [
        "# ¿qué dimensiones tiene imagen?\n",
        "imagen.shape"
      ],
      "metadata": {
        "id": "aLRzjGRmxwgL",
        "outputId": "b8f996a2-f6ae-4cea-a6b3-2dda8e889582",
        "colab": {
          "base_uri": "https://localhost:8080/"
        }
      },
      "execution_count": 12,
      "outputs": [
        {
          "output_type": "execute_result",
          "data": {
            "text/plain": [
              "(260, 260)"
            ]
          },
          "metadata": {},
          "execution_count": 12
        }
      ]
    },
    {
      "cell_type": "code",
      "source": [
        "imagen[180, 170:190]"
      ],
      "metadata": {
        "id": "2v6dynPsRE4i",
        "outputId": "7842aa15-5c68-4132-fe43-59232f168926",
        "colab": {
          "base_uri": "https://localhost:8080/"
        }
      },
      "execution_count": 13,
      "outputs": [
        {
          "output_type": "execute_result",
          "data": {
            "text/plain": [
              "array([0.22525176, 0.22525176, 0.22525176, 0.22525176, 0.21964078,\n",
              "       0.21738588, 0.21738588, 0.21738588, 0.21738588, 0.21738588,\n",
              "       0.21738588, 0.21738588, 0.21738588, 0.21429765, 0.21429765,\n",
              "       0.21964078, 0.23142824, 0.23929412, 0.23142824, 0.23142824])"
            ]
          },
          "metadata": {},
          "execution_count": 13
        }
      ]
    },
    {
      "cell_type": "code",
      "source": [
        "io.imshow(imagen) "
      ],
      "metadata": {
        "id": "De6KKXFtylaE",
        "outputId": "fe05f5b1-ec83-461f-bf90-4f1690c16e53",
        "colab": {
          "base_uri": "https://localhost:8080/",
          "height": 315
        }
      },
      "execution_count": 14,
      "outputs": [
        {
          "output_type": "execute_result",
          "data": {
            "text/plain": [
              "<matplotlib.image.AxesImage at 0x7f4af8f930d0>"
            ]
          },
          "metadata": {},
          "execution_count": 14
        },
        {
          "output_type": "display_data",
          "data": {
            "image/png": "[encoded data removed]",
            "text/plain": [
              "<Figure size 432x288 with 1 Axes>"
            ]
          },
          "metadata": {
            "needs_background": "light"
          }
        }
      ]
    },
    {
      "cell_type": "code",
      "source": [
        "datos['image_filename']"
      ],
      "metadata": {
        "id": "vTJNnOXRRpMz",
        "outputId": "c667de5e-28c3-493e-f312-24a458d987d0",
        "colab": {
          "base_uri": "https://localhost:8080/"
        }
      },
      "execution_count": 15,
      "outputs": [
        {
          "output_type": "execute_result",
          "data": {
            "text/plain": [
              "0          im_4_0.png\n",
              "1         im_21_0.png\n",
              "2          im_9_0.png\n",
              "3          im_8_0.png\n",
              "4         im_15_0.png\n",
              "            ...      \n",
              "5058    im_114_55.png\n",
              "5059      im_7_55.png\n",
              "5060     im_52_55.png\n",
              "5061     im_10_55.png\n",
              "5062    im_111_55.png\n",
              "Name: image_filename, Length: 5063, dtype: object"
            ]
          },
          "metadata": {},
          "execution_count": 15
        }
      ]
    },
    {
      "cell_type": "markdown",
      "source": [
        "**Ahora vamos a hacer lo mismo para todas las imagenes**"
      ],
      "metadata": {
        "id": "cDJ3LYa_0amf"
      }
    },
    {
      "cell_type": "code",
      "metadata": {
        "id": "fPrlo8G6PoFR",
        "colab": {
          "base_uri": "https://localhost:8080/"
        },
        "outputId": "d61f26f6-4e29-458a-c940-b034e6865214"
      },
      "source": [
        "%time  img = datos['image_filename'].apply(lambda x: io.imread(ruta + x, as_gray=True))"
      ],
      "execution_count": 16,
      "outputs": [
        {
          "output_type": "stream",
          "name": "stdout",
          "text": [
            "CPU times: user 55.7 s, sys: 6.98 s, total: 1min 2s\n",
            "Wall time: 1min 13s\n"
          ]
        }
      ]
    },
    {
      "cell_type": "markdown",
      "metadata": {
        "id": "-sJmXpwPH21m"
      },
      "source": [
        "<h2>Respaldamos el objeto img en un archivo pickle.<h2>\n",
        "\n",
        "(si quieres conocer más sobre pickles de python, revisa [este enlace](https://programacion.net/articulo/los_pickles_de_python_1860))"
      ]
    },
    {
      "cell_type": "code",
      "metadata": {
        "id": "lUWaB4bDIKXD"
      },
      "source": [
        "# # Guardar en archivo pickle\n",
        "# path = '/content/drive/MyDrive/Datos/DatosCancer/' # directorio donde se guardará el \n",
        "# pickle.dump(img, open (path + \"imagenes_numpy.pkl\", 'wb'))"
      ],
      "execution_count": 17,
      "outputs": []
    },
    {
      "cell_type": "code",
      "metadata": {
        "id": "WpmAp_nWJi1_"
      },
      "source": [
        "# # Leer archivo pickle\n",
        "# path = '/content/drive/MyDrive/Datos/DatosCancer/'\n",
        "# img = pickle.load(open(path + \"imagenes_numpy.pkl\", 'rb'))"
      ],
      "execution_count": 18,
      "outputs": []
    },
    {
      "cell_type": "code",
      "metadata": {
        "id": "J-qKmuF2dehV",
        "colab": {
          "base_uri": "https://localhost:8080/",
          "height": 315
        },
        "outputId": "43eb73b9-bf27-4ba9-92c8-5bec6536da7c"
      },
      "source": [
        "io.imshow(img[18]) "
      ],
      "execution_count": 19,
      "outputs": [
        {
          "output_type": "execute_result",
          "data": {
            "text/plain": [
              "<matplotlib.image.AxesImage at 0x7f4aedeb7710>"
            ]
          },
          "metadata": {},
          "execution_count": 19
        },
        {
          "output_type": "display_data",
          "data": {
            "image/png": "[encoded data removed]",
            "text/plain": [
              "<Figure size 432x288 with 1 Axes>"
            ]
          },
          "metadata": {
            "needs_background": "light"
          }
        }
      ]
    },
    {
      "cell_type": "code",
      "source": [
        "img[18]"
      ],
      "metadata": {
        "id": "ibRlzwyFTSr4",
        "outputId": "105ed213-8278-4874-d423-fe0a0d52737c",
        "colab": {
          "base_uri": "https://localhost:8080/"
        }
      },
      "execution_count": 20,
      "outputs": [
        {
          "output_type": "execute_result",
          "data": {
            "text/plain": [
              "array([[0.08322275, 0.08322275, 0.08322275, ..., 0.08322275, 0.08322275,\n",
              "        0.08322275],\n",
              "       [0.08322275, 0.08322275, 0.08322275, ..., 0.08322275, 0.08322275,\n",
              "        0.08322275],\n",
              "       [0.08322275, 0.08322275, 0.08322275, ..., 0.08322275, 0.08322275,\n",
              "        0.08322275],\n",
              "       ...,\n",
              "       [0.08322275, 0.08322275, 0.08322275, ..., 0.08322275, 0.08322275,\n",
              "        0.08322275],\n",
              "       [0.08322275, 0.08322275, 0.08322275, ..., 0.08322275, 0.08322275,\n",
              "        0.08322275],\n",
              "       [0.08322275, 0.08322275, 0.08322275, ..., 0.08322275, 0.08322275,\n",
              "        0.08322275]])"
            ]
          },
          "metadata": {},
          "execution_count": 20
        }
      ]
    },
    {
      "cell_type": "markdown",
      "metadata": {
        "id": "pL1snJkDdehX"
      },
      "source": [
        "- Dimensión 0: 260 renglones de pixeles de arriba a abajo\n",
        "- Dimensión 1: 260 columnas de pixeles de izquierda a derecha\n"
      ]
    },
    {
      "cell_type": "markdown",
      "metadata": {
        "id": "y0ZDj9JMdehX"
      },
      "source": [
        "####  Transformar imágenes en vectores\n",
        "Lo primero es transformar la secuencia de matrices img en una sola matriz\n"
      ]
    },
    {
      "cell_type": "code",
      "source": [
        "img.shape"
      ],
      "metadata": {
        "id": "AXpIIulp2dZt",
        "outputId": "49d88c1f-0f52-4bb2-f2e1-46a5ca8c0b15",
        "colab": {
          "base_uri": "https://localhost:8080/"
        }
      },
      "execution_count": 21,
      "outputs": [
        {
          "output_type": "execute_result",
          "data": {
            "text/plain": [
              "(5063,)"
            ]
          },
          "metadata": {},
          "execution_count": 21
        }
      ]
    },
    {
      "cell_type": "code",
      "metadata": {
        "id": "UzkIu7f8EAsX",
        "colab": {
          "base_uri": "https://localhost:8080/"
        },
        "outputId": "e34aabdf-2433-4566-8a22-9d01c55807d8"
      },
      "source": [
        "img[0].shape"
      ],
      "execution_count": 22,
      "outputs": [
        {
          "output_type": "execute_result",
          "data": {
            "text/plain": [
              "(260, 260)"
            ]
          },
          "metadata": {},
          "execution_count": 22
        }
      ]
    },
    {
      "cell_type": "code",
      "metadata": {
        "id": "pxkk_g6NdehY",
        "colab": {
          "base_uri": "https://localhost:8080/"
        },
        "outputId": "cceeec3f-d08c-49a9-ead5-667dd249dde4"
      },
      "source": [
        "IMG = np.stack(img, axis=0)  # Toma una secuencia de matrices y las apila a lo largo \n",
        "                              # de un tercer eje para hacer una sola matriz              \n",
        "IMG.shape"
      ],
      "execution_count": 23,
      "outputs": [
        {
          "output_type": "execute_result",
          "data": {
            "text/plain": [
              "(5063, 260, 260)"
            ]
          },
          "metadata": {},
          "execution_count": 23
        }
      ]
    },
    {
      "cell_type": "markdown",
      "metadata": {
        "id": "hkvoYQrBdehZ"
      },
      "source": [
        "Despues aplanar la matriz de 2D (260x260 pixeles) de cada imagen, para obtener un vector por imagen. "
      ]
    },
    {
      "cell_type": "code",
      "metadata": {
        "id": "ir6ICYlTdeha",
        "colab": {
          "base_uri": "https://localhost:8080/"
        },
        "outputId": "22094275-d4fb-45a9-e37c-d8dedb8a9c79"
      },
      "source": [
        "X = IMG.reshape( 5063, -1)\n",
        "X.shape"
      ],
      "execution_count": 24,
      "outputs": [
        {
          "output_type": "execute_result",
          "data": {
            "text/plain": [
              "(5063, 67600)"
            ]
          },
          "metadata": {},
          "execution_count": 24
        }
      ]
    },
    {
      "cell_type": "code",
      "source": [
        "tabla = pd.merge(pd.DataFrame(X), Y, left_index=True, right_index=True)\n",
        "tabla"
      ],
      "metadata": {
        "id": "Unhw89U-Zv3M",
        "outputId": "30a4326c-3e4e-4caf-de99-cc28e2a8bc57",
        "colab": {
          "base_uri": "https://localhost:8080/",
          "height": 487
        }
      },
      "execution_count": 25,
      "outputs": [
        {
          "output_type": "execute_result",
          "data": {
            "text/html": [
              "\n",
              "  <div id=\"df-66087775-6b78-4116-a15d-e09c64559e1e\">\n",
              "    <div class=\"colab-df-container\">\n",
              "      <div>\n",
              "<style scoped>\n",
              "    .dataframe tbody tr th:only-of-type {\n",
              "        vertical-align: middle;\n",
              "    }\n",
              "\n",
              "    .dataframe tbody tr th {\n",
              "        vertical-align: top;\n",
              "    }\n",
              "\n",
              "    .dataframe thead th {\n",
              "        text-align: right;\n",
              "    }\n",
              "</style>\n",
              "<table border=\"1\" class=\"dataframe\">\n",
              "  <thead>\n",
              "    <tr style=\"text-align: right;\">\n",
              "      <th></th>\n",
              "      <th>0</th>\n",
              "      <th>1</th>\n",
              "      <th>2</th>\n",
              "      <th>3</th>\n",
              "      <th>4</th>\n",
              "      <th>5</th>\n",
              "      <th>6</th>\n",
              "      <th>7</th>\n",
              "      <th>8</th>\n",
              "      <th>9</th>\n",
              "      <th>10</th>\n",
              "      <th>11</th>\n",
              "      <th>12</th>\n",
              "      <th>13</th>\n",
              "      <th>14</th>\n",
              "      <th>15</th>\n",
              "      <th>16</th>\n",
              "      <th>17</th>\n",
              "      <th>18</th>\n",
              "      <th>19</th>\n",
              "      <th>20</th>\n",
              "      <th>21</th>\n",
              "      <th>22</th>\n",
              "      <th>23</th>\n",
              "      <th>24</th>\n",
              "      <th>25</th>\n",
              "      <th>26</th>\n",
              "      <th>27</th>\n",
              "      <th>28</th>\n",
              "      <th>29</th>\n",
              "      <th>30</th>\n",
              "      <th>31</th>\n",
              "      <th>32</th>\n",
              "      <th>33</th>\n",
              "      <th>34</th>\n",
              "      <th>35</th>\n",
              "      <th>36</th>\n",
              "      <th>37</th>\n",
              "      <th>38</th>\n",
              "      <th>39</th>\n",
              "      <th>...</th>\n",
              "      <th>67561</th>\n",
              "      <th>67562</th>\n",
              "      <th>67563</th>\n",
              "      <th>67564</th>\n",
              "      <th>67565</th>\n",
              "      <th>67566</th>\n",
              "      <th>67567</th>\n",
              "      <th>67568</th>\n",
              "      <th>67569</th>\n",
              "      <th>67570</th>\n",
              "      <th>67571</th>\n",
              "      <th>67572</th>\n",
              "      <th>67573</th>\n",
              "      <th>67574</th>\n",
              "      <th>67575</th>\n",
              "      <th>67576</th>\n",
              "      <th>67577</th>\n",
              "      <th>67578</th>\n",
              "      <th>67579</th>\n",
              "      <th>67580</th>\n",
              "      <th>67581</th>\n",
              "      <th>67582</th>\n",
              "      <th>67583</th>\n",
              "      <th>67584</th>\n",
              "      <th>67585</th>\n",
              "      <th>67586</th>\n",
              "      <th>67587</th>\n",
              "      <th>67588</th>\n",
              "      <th>67589</th>\n",
              "      <th>67590</th>\n",
              "      <th>67591</th>\n",
              "      <th>67592</th>\n",
              "      <th>67593</th>\n",
              "      <th>67594</th>\n",
              "      <th>67595</th>\n",
              "      <th>67596</th>\n",
              "      <th>67597</th>\n",
              "      <th>67598</th>\n",
              "      <th>67599</th>\n",
              "      <th>class_number</th>\n",
              "    </tr>\n",
              "  </thead>\n",
              "  <tbody>\n",
              "    <tr>\n",
              "      <th>0</th>\n",
              "      <td>0.083223</td>\n",
              "      <td>0.083223</td>\n",
              "      <td>0.083223</td>\n",
              "      <td>0.083223</td>\n",
              "      <td>0.083223</td>\n",
              "      <td>0.083223</td>\n",
              "      <td>0.083223</td>\n",
              "      <td>0.083223</td>\n",
              "      <td>0.083223</td>\n",
              "      <td>0.083223</td>\n",
              "      <td>0.083223</td>\n",
              "      <td>0.083223</td>\n",
              "      <td>0.083223</td>\n",
              "      <td>0.083223</td>\n",
              "      <td>0.083223</td>\n",
              "      <td>0.083223</td>\n",
              "      <td>0.083223</td>\n",
              "      <td>0.083223</td>\n",
              "      <td>0.083223</td>\n",
              "      <td>0.083223</td>\n",
              "      <td>0.083223</td>\n",
              "      <td>0.083223</td>\n",
              "      <td>0.083223</td>\n",
              "      <td>0.083223</td>\n",
              "      <td>0.083223</td>\n",
              "      <td>0.083223</td>\n",
              "      <td>0.083223</td>\n",
              "      <td>0.083223</td>\n",
              "      <td>0.083223</td>\n",
              "      <td>0.083223</td>\n",
              "      <td>0.083223</td>\n",
              "      <td>0.083223</td>\n",
              "      <td>0.083223</td>\n",
              "      <td>0.083223</td>\n",
              "      <td>0.083223</td>\n",
              "      <td>0.083223</td>\n",
              "      <td>0.083223</td>\n",
              "      <td>0.083223</td>\n",
              "      <td>0.083223</td>\n",
              "      <td>0.083223</td>\n",
              "      <td>...</td>\n",
              "      <td>0.083223</td>\n",
              "      <td>0.083223</td>\n",
              "      <td>0.083223</td>\n",
              "      <td>0.083223</td>\n",
              "      <td>0.083223</td>\n",
              "      <td>0.083223</td>\n",
              "      <td>0.083223</td>\n",
              "      <td>0.083223</td>\n",
              "      <td>0.083223</td>\n",
              "      <td>0.083223</td>\n",
              "      <td>0.083223</td>\n",
              "      <td>0.083223</td>\n",
              "      <td>0.083223</td>\n",
              "      <td>0.083223</td>\n",
              "      <td>0.083223</td>\n",
              "      <td>0.083223</td>\n",
              "      <td>0.083223</td>\n",
              "      <td>0.083223</td>\n",
              "      <td>0.083223</td>\n",
              "      <td>0.083223</td>\n",
              "      <td>0.083223</td>\n",
              "      <td>0.083223</td>\n",
              "      <td>0.083223</td>\n",
              "      <td>0.083223</td>\n",
              "      <td>0.083223</td>\n",
              "      <td>0.083223</td>\n",
              "      <td>0.083223</td>\n",
              "      <td>0.083223</td>\n",
              "      <td>0.083223</td>\n",
              "      <td>0.083223</td>\n",
              "      <td>0.083223</td>\n",
              "      <td>0.083223</td>\n",
              "      <td>0.083223</td>\n",
              "      <td>0.083223</td>\n",
              "      <td>0.083223</td>\n",
              "      <td>0.083223</td>\n",
              "      <td>0.083223</td>\n",
              "      <td>0.083223</td>\n",
              "      <td>0.083223</td>\n",
              "      <td>0</td>\n",
              "    </tr>\n",
              "    <tr>\n",
              "      <th>1</th>\n",
              "      <td>0.083223</td>\n",
              "      <td>0.083223</td>\n",
              "      <td>0.083223</td>\n",
              "      <td>0.083223</td>\n",
              "      <td>0.083223</td>\n",
              "      <td>0.083223</td>\n",
              "      <td>0.083223</td>\n",
              "      <td>0.083223</td>\n",
              "      <td>0.083223</td>\n",
              "      <td>0.083223</td>\n",
              "      <td>0.083223</td>\n",
              "      <td>0.083223</td>\n",
              "      <td>0.083223</td>\n",
              "      <td>0.083223</td>\n",
              "      <td>0.083223</td>\n",
              "      <td>0.083223</td>\n",
              "      <td>0.083223</td>\n",
              "      <td>0.083223</td>\n",
              "      <td>0.083223</td>\n",
              "      <td>0.083223</td>\n",
              "      <td>0.083223</td>\n",
              "      <td>0.083223</td>\n",
              "      <td>0.083223</td>\n",
              "      <td>0.083223</td>\n",
              "      <td>0.083223</td>\n",
              "      <td>0.083223</td>\n",
              "      <td>0.083223</td>\n",
              "      <td>0.083223</td>\n",
              "      <td>0.083223</td>\n",
              "      <td>0.083223</td>\n",
              "      <td>0.083223</td>\n",
              "      <td>0.083223</td>\n",
              "      <td>0.083223</td>\n",
              "      <td>0.083223</td>\n",
              "      <td>0.083223</td>\n",
              "      <td>0.083223</td>\n",
              "      <td>0.083223</td>\n",
              "      <td>0.083223</td>\n",
              "      <td>0.083223</td>\n",
              "      <td>0.083223</td>\n",
              "      <td>...</td>\n",
              "      <td>0.083223</td>\n",
              "      <td>0.083223</td>\n",
              "      <td>0.083223</td>\n",
              "      <td>0.083223</td>\n",
              "      <td>0.083223</td>\n",
              "      <td>0.083223</td>\n",
              "      <td>0.083223</td>\n",
              "      <td>0.083223</td>\n",
              "      <td>0.083223</td>\n",
              "      <td>0.083223</td>\n",
              "      <td>0.083223</td>\n",
              "      <td>0.083223</td>\n",
              "      <td>0.083223</td>\n",
              "      <td>0.083223</td>\n",
              "      <td>0.083223</td>\n",
              "      <td>0.083223</td>\n",
              "      <td>0.083223</td>\n",
              "      <td>0.083223</td>\n",
              "      <td>0.083223</td>\n",
              "      <td>0.083223</td>\n",
              "      <td>0.083223</td>\n",
              "      <td>0.083223</td>\n",
              "      <td>0.083223</td>\n",
              "      <td>0.083223</td>\n",
              "      <td>0.083223</td>\n",
              "      <td>0.083223</td>\n",
              "      <td>0.083223</td>\n",
              "      <td>0.083223</td>\n",
              "      <td>0.083223</td>\n",
              "      <td>0.083223</td>\n",
              "      <td>0.083223</td>\n",
              "      <td>0.083223</td>\n",
              "      <td>0.083223</td>\n",
              "      <td>0.083223</td>\n",
              "      <td>0.083223</td>\n",
              "      <td>0.083223</td>\n",
              "      <td>0.083223</td>\n",
              "      <td>0.083223</td>\n",
              "      <td>0.083223</td>\n",
              "      <td>0</td>\n",
              "    </tr>\n",
              "    <tr>\n",
              "      <th>2</th>\n",
              "      <td>0.083223</td>\n",
              "      <td>0.083223</td>\n",
              "      <td>0.083223</td>\n",
              "      <td>0.083223</td>\n",
              "      <td>0.083223</td>\n",
              "      <td>0.083223</td>\n",
              "      <td>0.083223</td>\n",
              "      <td>0.083223</td>\n",
              "      <td>0.083223</td>\n",
              "      <td>0.083223</td>\n",
              "      <td>0.083223</td>\n",
              "      <td>0.083223</td>\n",
              "      <td>0.083223</td>\n",
              "      <td>0.083223</td>\n",
              "      <td>0.083223</td>\n",
              "      <td>0.083223</td>\n",
              "      <td>0.083223</td>\n",
              "      <td>0.083223</td>\n",
              "      <td>0.083223</td>\n",
              "      <td>0.083223</td>\n",
              "      <td>0.083223</td>\n",
              "      <td>0.083223</td>\n",
              "      <td>0.083223</td>\n",
              "      <td>0.083223</td>\n",
              "      <td>0.083223</td>\n",
              "      <td>0.083223</td>\n",
              "      <td>0.083223</td>\n",
              "      <td>0.083223</td>\n",
              "      <td>0.083223</td>\n",
              "      <td>0.083223</td>\n",
              "      <td>0.083223</td>\n",
              "      <td>0.083223</td>\n",
              "      <td>0.083223</td>\n",
              "      <td>0.083223</td>\n",
              "      <td>0.083223</td>\n",
              "      <td>0.083223</td>\n",
              "      <td>0.083223</td>\n",
              "      <td>0.083223</td>\n",
              "      <td>0.083223</td>\n",
              "      <td>0.083223</td>\n",
              "      <td>...</td>\n",
              "      <td>0.083223</td>\n",
              "      <td>0.083223</td>\n",
              "      <td>0.083223</td>\n",
              "      <td>0.083223</td>\n",
              "      <td>0.083223</td>\n",
              "      <td>0.083223</td>\n",
              "      <td>0.083223</td>\n",
              "      <td>0.083223</td>\n",
              "      <td>0.083223</td>\n",
              "      <td>0.083223</td>\n",
              "      <td>0.083223</td>\n",
              "      <td>0.083223</td>\n",
              "      <td>0.083223</td>\n",
              "      <td>0.083223</td>\n",
              "      <td>0.083223</td>\n",
              "      <td>0.083223</td>\n",
              "      <td>0.083223</td>\n",
              "      <td>0.083223</td>\n",
              "      <td>0.083223</td>\n",
              "      <td>0.083223</td>\n",
              "      <td>0.083223</td>\n",
              "      <td>0.083223</td>\n",
              "      <td>0.083223</td>\n",
              "      <td>0.083223</td>\n",
              "      <td>0.083223</td>\n",
              "      <td>0.083223</td>\n",
              "      <td>0.083223</td>\n",
              "      <td>0.083223</td>\n",
              "      <td>0.083223</td>\n",
              "      <td>0.083223</td>\n",
              "      <td>0.083223</td>\n",
              "      <td>0.083223</td>\n",
              "      <td>0.083223</td>\n",
              "      <td>0.083223</td>\n",
              "      <td>0.083223</td>\n",
              "      <td>0.083223</td>\n",
              "      <td>0.083223</td>\n",
              "      <td>0.083223</td>\n",
              "      <td>0.083223</td>\n",
              "      <td>0</td>\n",
              "    </tr>\n",
              "    <tr>\n",
              "      <th>3</th>\n",
              "      <td>0.083223</td>\n",
              "      <td>0.083223</td>\n",
              "      <td>0.083223</td>\n",
              "      <td>0.083223</td>\n",
              "      <td>0.083223</td>\n",
              "      <td>0.083223</td>\n",
              "      <td>0.083223</td>\n",
              "      <td>0.083223</td>\n",
              "      <td>0.083223</td>\n",
              "      <td>0.083223</td>\n",
              "      <td>0.083223</td>\n",
              "      <td>0.083223</td>\n",
              "      <td>0.083223</td>\n",
              "      <td>0.083223</td>\n",
              "      <td>0.083223</td>\n",
              "      <td>0.083223</td>\n",
              "      <td>0.083223</td>\n",
              "      <td>0.083223</td>\n",
              "      <td>0.083223</td>\n",
              "      <td>0.083223</td>\n",
              "      <td>0.083223</td>\n",
              "      <td>0.083223</td>\n",
              "      <td>0.083223</td>\n",
              "      <td>0.083223</td>\n",
              "      <td>0.083223</td>\n",
              "      <td>0.083223</td>\n",
              "      <td>0.083223</td>\n",
              "      <td>0.083223</td>\n",
              "      <td>0.083223</td>\n",
              "      <td>0.083223</td>\n",
              "      <td>0.083223</td>\n",
              "      <td>0.083223</td>\n",
              "      <td>0.083223</td>\n",
              "      <td>0.083223</td>\n",
              "      <td>0.083223</td>\n",
              "      <td>0.083223</td>\n",
              "      <td>0.083223</td>\n",
              "      <td>0.083223</td>\n",
              "      <td>0.083223</td>\n",
              "      <td>0.083223</td>\n",
              "      <td>...</td>\n",
              "      <td>0.083223</td>\n",
              "      <td>0.083223</td>\n",
              "      <td>0.083223</td>\n",
              "      <td>0.083223</td>\n",
              "      <td>0.083223</td>\n",
              "      <td>0.083223</td>\n",
              "      <td>0.083223</td>\n",
              "      <td>0.083223</td>\n",
              "      <td>0.083223</td>\n",
              "      <td>0.083223</td>\n",
              "      <td>0.083223</td>\n",
              "      <td>0.083223</td>\n",
              "      <td>0.083223</td>\n",
              "      <td>0.083223</td>\n",
              "      <td>0.083223</td>\n",
              "      <td>0.083223</td>\n",
              "      <td>0.083223</td>\n",
              "      <td>0.083223</td>\n",
              "      <td>0.083223</td>\n",
              "      <td>0.083223</td>\n",
              "      <td>0.083223</td>\n",
              "      <td>0.083223</td>\n",
              "      <td>0.083223</td>\n",
              "      <td>0.083223</td>\n",
              "      <td>0.083223</td>\n",
              "      <td>0.083223</td>\n",
              "      <td>0.083223</td>\n",
              "      <td>0.083223</td>\n",
              "      <td>0.083223</td>\n",
              "      <td>0.083223</td>\n",
              "      <td>0.083223</td>\n",
              "      <td>0.083223</td>\n",
              "      <td>0.083223</td>\n",
              "      <td>0.083223</td>\n",
              "      <td>0.083223</td>\n",
              "      <td>0.083223</td>\n",
              "      <td>0.083223</td>\n",
              "      <td>0.083223</td>\n",
              "      <td>0.083223</td>\n",
              "      <td>0</td>\n",
              "    </tr>\n",
              "    <tr>\n",
              "      <th>4</th>\n",
              "      <td>0.083223</td>\n",
              "      <td>0.083223</td>\n",
              "      <td>0.083223</td>\n",
              "      <td>0.083223</td>\n",
              "      <td>0.083223</td>\n",
              "      <td>0.083223</td>\n",
              "      <td>0.083223</td>\n",
              "      <td>0.083223</td>\n",
              "      <td>0.083223</td>\n",
              "      <td>0.083223</td>\n",
              "      <td>0.083223</td>\n",
              "      <td>0.083223</td>\n",
              "      <td>0.083223</td>\n",
              "      <td>0.083223</td>\n",
              "      <td>0.083223</td>\n",
              "      <td>0.083223</td>\n",
              "      <td>0.083223</td>\n",
              "      <td>0.083223</td>\n",
              "      <td>0.083223</td>\n",
              "      <td>0.083223</td>\n",
              "      <td>0.083223</td>\n",
              "      <td>0.083223</td>\n",
              "      <td>0.083223</td>\n",
              "      <td>0.083223</td>\n",
              "      <td>0.083223</td>\n",
              "      <td>0.083223</td>\n",
              "      <td>0.083223</td>\n",
              "      <td>0.083223</td>\n",
              "      <td>0.083223</td>\n",
              "      <td>0.083223</td>\n",
              "      <td>0.083223</td>\n",
              "      <td>0.083223</td>\n",
              "      <td>0.083223</td>\n",
              "      <td>0.083223</td>\n",
              "      <td>0.083223</td>\n",
              "      <td>0.083223</td>\n",
              "      <td>0.083223</td>\n",
              "      <td>0.083223</td>\n",
              "      <td>0.083223</td>\n",
              "      <td>0.083223</td>\n",
              "      <td>...</td>\n",
              "      <td>0.083223</td>\n",
              "      <td>0.083223</td>\n",
              "      <td>0.083223</td>\n",
              "      <td>0.083223</td>\n",
              "      <td>0.083223</td>\n",
              "      <td>0.083223</td>\n",
              "      <td>0.083223</td>\n",
              "      <td>0.083223</td>\n",
              "      <td>0.083223</td>\n",
              "      <td>0.083223</td>\n",
              "      <td>0.083223</td>\n",
              "      <td>0.083223</td>\n",
              "      <td>0.083223</td>\n",
              "      <td>0.083223</td>\n",
              "      <td>0.083223</td>\n",
              "      <td>0.083223</td>\n",
              "      <td>0.083223</td>\n",
              "      <td>0.083223</td>\n",
              "      <td>0.083223</td>\n",
              "      <td>0.083223</td>\n",
              "      <td>0.083223</td>\n",
              "      <td>0.083223</td>\n",
              "      <td>0.083223</td>\n",
              "      <td>0.083223</td>\n",
              "      <td>0.083223</td>\n",
              "      <td>0.083223</td>\n",
              "      <td>0.083223</td>\n",
              "      <td>0.083223</td>\n",
              "      <td>0.083223</td>\n",
              "      <td>0.083223</td>\n",
              "      <td>0.083223</td>\n",
              "      <td>0.083223</td>\n",
              "      <td>0.083223</td>\n",
              "      <td>0.083223</td>\n",
              "      <td>0.083223</td>\n",
              "      <td>0.083223</td>\n",
              "      <td>0.083223</td>\n",
              "      <td>0.083223</td>\n",
              "      <td>0.083223</td>\n",
              "      <td>0</td>\n",
              "    </tr>\n",
              "    <tr>\n",
              "      <th>...</th>\n",
              "      <td>...</td>\n",
              "      <td>...</td>\n",
              "      <td>...</td>\n",
              "      <td>...</td>\n",
              "      <td>...</td>\n",
              "      <td>...</td>\n",
              "      <td>...</td>\n",
              "      <td>...</td>\n",
              "      <td>...</td>\n",
              "      <td>...</td>\n",
              "      <td>...</td>\n",
              "      <td>...</td>\n",
              "      <td>...</td>\n",
              "      <td>...</td>\n",
              "      <td>...</td>\n",
              "      <td>...</td>\n",
              "      <td>...</td>\n",
              "      <td>...</td>\n",
              "      <td>...</td>\n",
              "      <td>...</td>\n",
              "      <td>...</td>\n",
              "      <td>...</td>\n",
              "      <td>...</td>\n",
              "      <td>...</td>\n",
              "      <td>...</td>\n",
              "      <td>...</td>\n",
              "      <td>...</td>\n",
              "      <td>...</td>\n",
              "      <td>...</td>\n",
              "      <td>...</td>\n",
              "      <td>...</td>\n",
              "      <td>...</td>\n",
              "      <td>...</td>\n",
              "      <td>...</td>\n",
              "      <td>...</td>\n",
              "      <td>...</td>\n",
              "      <td>...</td>\n",
              "      <td>...</td>\n",
              "      <td>...</td>\n",
              "      <td>...</td>\n",
              "      <td>...</td>\n",
              "      <td>...</td>\n",
              "      <td>...</td>\n",
              "      <td>...</td>\n",
              "      <td>...</td>\n",
              "      <td>...</td>\n",
              "      <td>...</td>\n",
              "      <td>...</td>\n",
              "      <td>...</td>\n",
              "      <td>...</td>\n",
              "      <td>...</td>\n",
              "      <td>...</td>\n",
              "      <td>...</td>\n",
              "      <td>...</td>\n",
              "      <td>...</td>\n",
              "      <td>...</td>\n",
              "      <td>...</td>\n",
              "      <td>...</td>\n",
              "      <td>...</td>\n",
              "      <td>...</td>\n",
              "      <td>...</td>\n",
              "      <td>...</td>\n",
              "      <td>...</td>\n",
              "      <td>...</td>\n",
              "      <td>...</td>\n",
              "      <td>...</td>\n",
              "      <td>...</td>\n",
              "      <td>...</td>\n",
              "      <td>...</td>\n",
              "      <td>...</td>\n",
              "      <td>...</td>\n",
              "      <td>...</td>\n",
              "      <td>...</td>\n",
              "      <td>...</td>\n",
              "      <td>...</td>\n",
              "      <td>...</td>\n",
              "      <td>...</td>\n",
              "      <td>...</td>\n",
              "      <td>...</td>\n",
              "      <td>...</td>\n",
              "      <td>...</td>\n",
              "    </tr>\n",
              "    <tr>\n",
              "      <th>5058</th>\n",
              "      <td>0.083223</td>\n",
              "      <td>0.083223</td>\n",
              "      <td>0.083223</td>\n",
              "      <td>0.083223</td>\n",
              "      <td>0.083223</td>\n",
              "      <td>0.083223</td>\n",
              "      <td>0.083223</td>\n",
              "      <td>0.083223</td>\n",
              "      <td>0.083223</td>\n",
              "      <td>0.083223</td>\n",
              "      <td>0.083223</td>\n",
              "      <td>0.083223</td>\n",
              "      <td>0.083223</td>\n",
              "      <td>0.083223</td>\n",
              "      <td>0.083223</td>\n",
              "      <td>0.083223</td>\n",
              "      <td>0.083223</td>\n",
              "      <td>0.083223</td>\n",
              "      <td>0.083223</td>\n",
              "      <td>0.083223</td>\n",
              "      <td>0.083223</td>\n",
              "      <td>0.083223</td>\n",
              "      <td>0.083223</td>\n",
              "      <td>0.083223</td>\n",
              "      <td>0.083223</td>\n",
              "      <td>0.083223</td>\n",
              "      <td>0.083223</td>\n",
              "      <td>0.083223</td>\n",
              "      <td>0.083223</td>\n",
              "      <td>0.083223</td>\n",
              "      <td>0.083223</td>\n",
              "      <td>0.083223</td>\n",
              "      <td>0.083223</td>\n",
              "      <td>0.083223</td>\n",
              "      <td>0.083223</td>\n",
              "      <td>0.083223</td>\n",
              "      <td>0.083223</td>\n",
              "      <td>0.083223</td>\n",
              "      <td>0.083223</td>\n",
              "      <td>0.083223</td>\n",
              "      <td>...</td>\n",
              "      <td>0.083223</td>\n",
              "      <td>0.083223</td>\n",
              "      <td>0.083223</td>\n",
              "      <td>0.083223</td>\n",
              "      <td>0.083223</td>\n",
              "      <td>0.083223</td>\n",
              "      <td>0.083223</td>\n",
              "      <td>0.083223</td>\n",
              "      <td>0.083223</td>\n",
              "      <td>0.083223</td>\n",
              "      <td>0.083223</td>\n",
              "      <td>0.083223</td>\n",
              "      <td>0.083223</td>\n",
              "      <td>0.083223</td>\n",
              "      <td>0.083223</td>\n",
              "      <td>0.083223</td>\n",
              "      <td>0.083223</td>\n",
              "      <td>0.083223</td>\n",
              "      <td>0.083223</td>\n",
              "      <td>0.083223</td>\n",
              "      <td>0.083223</td>\n",
              "      <td>0.083223</td>\n",
              "      <td>0.083223</td>\n",
              "      <td>0.083223</td>\n",
              "      <td>0.083223</td>\n",
              "      <td>0.083223</td>\n",
              "      <td>0.083223</td>\n",
              "      <td>0.083223</td>\n",
              "      <td>0.083223</td>\n",
              "      <td>0.083223</td>\n",
              "      <td>0.083223</td>\n",
              "      <td>0.083223</td>\n",
              "      <td>0.083223</td>\n",
              "      <td>0.083223</td>\n",
              "      <td>0.083223</td>\n",
              "      <td>0.083223</td>\n",
              "      <td>0.083223</td>\n",
              "      <td>0.083223</td>\n",
              "      <td>0.083223</td>\n",
              "      <td>1</td>\n",
              "    </tr>\n",
              "    <tr>\n",
              "      <th>5059</th>\n",
              "      <td>0.083223</td>\n",
              "      <td>0.083223</td>\n",
              "      <td>0.083223</td>\n",
              "      <td>0.083223</td>\n",
              "      <td>0.083223</td>\n",
              "      <td>0.083223</td>\n",
              "      <td>0.083223</td>\n",
              "      <td>0.083223</td>\n",
              "      <td>0.083223</td>\n",
              "      <td>0.083223</td>\n",
              "      <td>0.083223</td>\n",
              "      <td>0.083223</td>\n",
              "      <td>0.083223</td>\n",
              "      <td>0.083223</td>\n",
              "      <td>0.083223</td>\n",
              "      <td>0.083223</td>\n",
              "      <td>0.083223</td>\n",
              "      <td>0.083223</td>\n",
              "      <td>0.083223</td>\n",
              "      <td>0.083223</td>\n",
              "      <td>0.083223</td>\n",
              "      <td>0.083223</td>\n",
              "      <td>0.083223</td>\n",
              "      <td>0.083223</td>\n",
              "      <td>0.083223</td>\n",
              "      <td>0.083223</td>\n",
              "      <td>0.083223</td>\n",
              "      <td>0.083223</td>\n",
              "      <td>0.083223</td>\n",
              "      <td>0.083223</td>\n",
              "      <td>0.083223</td>\n",
              "      <td>0.083223</td>\n",
              "      <td>0.083223</td>\n",
              "      <td>0.083223</td>\n",
              "      <td>0.083223</td>\n",
              "      <td>0.083223</td>\n",
              "      <td>0.083223</td>\n",
              "      <td>0.083223</td>\n",
              "      <td>0.083223</td>\n",
              "      <td>0.083223</td>\n",
              "      <td>...</td>\n",
              "      <td>0.083223</td>\n",
              "      <td>0.083223</td>\n",
              "      <td>0.083223</td>\n",
              "      <td>0.083223</td>\n",
              "      <td>0.083223</td>\n",
              "      <td>0.083223</td>\n",
              "      <td>0.083223</td>\n",
              "      <td>0.083223</td>\n",
              "      <td>0.083223</td>\n",
              "      <td>0.083223</td>\n",
              "      <td>0.083223</td>\n",
              "      <td>0.083223</td>\n",
              "      <td>0.083223</td>\n",
              "      <td>0.083223</td>\n",
              "      <td>0.083223</td>\n",
              "      <td>0.083223</td>\n",
              "      <td>0.083223</td>\n",
              "      <td>0.083223</td>\n",
              "      <td>0.083223</td>\n",
              "      <td>0.083223</td>\n",
              "      <td>0.083223</td>\n",
              "      <td>0.083223</td>\n",
              "      <td>0.083223</td>\n",
              "      <td>0.083223</td>\n",
              "      <td>0.083223</td>\n",
              "      <td>0.083223</td>\n",
              "      <td>0.083223</td>\n",
              "      <td>0.083223</td>\n",
              "      <td>0.083223</td>\n",
              "      <td>0.083223</td>\n",
              "      <td>0.083223</td>\n",
              "      <td>0.083223</td>\n",
              "      <td>0.083223</td>\n",
              "      <td>0.083223</td>\n",
              "      <td>0.083223</td>\n",
              "      <td>0.083223</td>\n",
              "      <td>0.083223</td>\n",
              "      <td>0.083223</td>\n",
              "      <td>0.083223</td>\n",
              "      <td>1</td>\n",
              "    </tr>\n",
              "    <tr>\n",
              "      <th>5060</th>\n",
              "      <td>0.083223</td>\n",
              "      <td>0.083223</td>\n",
              "      <td>0.083223</td>\n",
              "      <td>0.083223</td>\n",
              "      <td>0.083223</td>\n",
              "      <td>0.083223</td>\n",
              "      <td>0.083223</td>\n",
              "      <td>0.083223</td>\n",
              "      <td>0.083223</td>\n",
              "      <td>0.083223</td>\n",
              "      <td>0.083223</td>\n",
              "      <td>0.083223</td>\n",
              "      <td>0.083223</td>\n",
              "      <td>0.083223</td>\n",
              "      <td>0.083223</td>\n",
              "      <td>0.083223</td>\n",
              "      <td>0.083223</td>\n",
              "      <td>0.083223</td>\n",
              "      <td>0.083223</td>\n",
              "      <td>0.083223</td>\n",
              "      <td>0.083223</td>\n",
              "      <td>0.083223</td>\n",
              "      <td>0.083223</td>\n",
              "      <td>0.083223</td>\n",
              "      <td>0.083223</td>\n",
              "      <td>0.083223</td>\n",
              "      <td>0.083223</td>\n",
              "      <td>0.083223</td>\n",
              "      <td>0.083223</td>\n",
              "      <td>0.083223</td>\n",
              "      <td>0.083223</td>\n",
              "      <td>0.083223</td>\n",
              "      <td>0.083223</td>\n",
              "      <td>0.083223</td>\n",
              "      <td>0.083223</td>\n",
              "      <td>0.083223</td>\n",
              "      <td>0.083223</td>\n",
              "      <td>0.083223</td>\n",
              "      <td>0.083223</td>\n",
              "      <td>0.083223</td>\n",
              "      <td>...</td>\n",
              "      <td>0.083223</td>\n",
              "      <td>0.083223</td>\n",
              "      <td>0.083223</td>\n",
              "      <td>0.083223</td>\n",
              "      <td>0.083223</td>\n",
              "      <td>0.083223</td>\n",
              "      <td>0.083223</td>\n",
              "      <td>0.083223</td>\n",
              "      <td>0.083223</td>\n",
              "      <td>0.083223</td>\n",
              "      <td>0.083223</td>\n",
              "      <td>0.083223</td>\n",
              "      <td>0.083223</td>\n",
              "      <td>0.083223</td>\n",
              "      <td>0.083223</td>\n",
              "      <td>0.083223</td>\n",
              "      <td>0.083223</td>\n",
              "      <td>0.083223</td>\n",
              "      <td>0.083223</td>\n",
              "      <td>0.083223</td>\n",
              "      <td>0.083223</td>\n",
              "      <td>0.083223</td>\n",
              "      <td>0.083223</td>\n",
              "      <td>0.083223</td>\n",
              "      <td>0.083223</td>\n",
              "      <td>0.083223</td>\n",
              "      <td>0.083223</td>\n",
              "      <td>0.083223</td>\n",
              "      <td>0.083223</td>\n",
              "      <td>0.083223</td>\n",
              "      <td>0.083223</td>\n",
              "      <td>0.083223</td>\n",
              "      <td>0.083223</td>\n",
              "      <td>0.083223</td>\n",
              "      <td>0.083223</td>\n",
              "      <td>0.083223</td>\n",
              "      <td>0.083223</td>\n",
              "      <td>0.083223</td>\n",
              "      <td>0.083223</td>\n",
              "      <td>1</td>\n",
              "    </tr>\n",
              "    <tr>\n",
              "      <th>5061</th>\n",
              "      <td>0.083223</td>\n",
              "      <td>0.083223</td>\n",
              "      <td>0.083223</td>\n",
              "      <td>0.083223</td>\n",
              "      <td>0.083223</td>\n",
              "      <td>0.083223</td>\n",
              "      <td>0.083223</td>\n",
              "      <td>0.083223</td>\n",
              "      <td>0.083223</td>\n",
              "      <td>0.083223</td>\n",
              "      <td>0.083223</td>\n",
              "      <td>0.083223</td>\n",
              "      <td>0.083223</td>\n",
              "      <td>0.083223</td>\n",
              "      <td>0.083223</td>\n",
              "      <td>0.083223</td>\n",
              "      <td>0.083223</td>\n",
              "      <td>0.083223</td>\n",
              "      <td>0.083223</td>\n",
              "      <td>0.083223</td>\n",
              "      <td>0.083223</td>\n",
              "      <td>0.083223</td>\n",
              "      <td>0.083223</td>\n",
              "      <td>0.083223</td>\n",
              "      <td>0.083223</td>\n",
              "      <td>0.083223</td>\n",
              "      <td>0.083223</td>\n",
              "      <td>0.083223</td>\n",
              "      <td>0.083223</td>\n",
              "      <td>0.083223</td>\n",
              "      <td>0.083223</td>\n",
              "      <td>0.083223</td>\n",
              "      <td>0.083223</td>\n",
              "      <td>0.083223</td>\n",
              "      <td>0.083223</td>\n",
              "      <td>0.083223</td>\n",
              "      <td>0.083223</td>\n",
              "      <td>0.083223</td>\n",
              "      <td>0.083223</td>\n",
              "      <td>0.083223</td>\n",
              "      <td>...</td>\n",
              "      <td>0.083223</td>\n",
              "      <td>0.083223</td>\n",
              "      <td>0.083223</td>\n",
              "      <td>0.083223</td>\n",
              "      <td>0.083223</td>\n",
              "      <td>0.083223</td>\n",
              "      <td>0.083223</td>\n",
              "      <td>0.083223</td>\n",
              "      <td>0.083223</td>\n",
              "      <td>0.083223</td>\n",
              "      <td>0.083223</td>\n",
              "      <td>0.083223</td>\n",
              "      <td>0.083223</td>\n",
              "      <td>0.083223</td>\n",
              "      <td>0.083223</td>\n",
              "      <td>0.083223</td>\n",
              "      <td>0.083223</td>\n",
              "      <td>0.083223</td>\n",
              "      <td>0.083223</td>\n",
              "      <td>0.083223</td>\n",
              "      <td>0.083223</td>\n",
              "      <td>0.083223</td>\n",
              "      <td>0.083223</td>\n",
              "      <td>0.083223</td>\n",
              "      <td>0.083223</td>\n",
              "      <td>0.083223</td>\n",
              "      <td>0.083223</td>\n",
              "      <td>0.083223</td>\n",
              "      <td>0.083223</td>\n",
              "      <td>0.083223</td>\n",
              "      <td>0.083223</td>\n",
              "      <td>0.083223</td>\n",
              "      <td>0.083223</td>\n",
              "      <td>0.083223</td>\n",
              "      <td>0.083223</td>\n",
              "      <td>0.083223</td>\n",
              "      <td>0.083223</td>\n",
              "      <td>0.083223</td>\n",
              "      <td>0.083223</td>\n",
              "      <td>1</td>\n",
              "    </tr>\n",
              "    <tr>\n",
              "      <th>5062</th>\n",
              "      <td>0.083223</td>\n",
              "      <td>0.083223</td>\n",
              "      <td>0.083223</td>\n",
              "      <td>0.083223</td>\n",
              "      <td>0.083223</td>\n",
              "      <td>0.083223</td>\n",
              "      <td>0.083223</td>\n",
              "      <td>0.083223</td>\n",
              "      <td>0.083223</td>\n",
              "      <td>0.083223</td>\n",
              "      <td>0.083223</td>\n",
              "      <td>0.083223</td>\n",
              "      <td>0.083223</td>\n",
              "      <td>0.083223</td>\n",
              "      <td>0.083223</td>\n",
              "      <td>0.083223</td>\n",
              "      <td>0.083223</td>\n",
              "      <td>0.083223</td>\n",
              "      <td>0.083223</td>\n",
              "      <td>0.083223</td>\n",
              "      <td>0.083223</td>\n",
              "      <td>0.083223</td>\n",
              "      <td>0.083223</td>\n",
              "      <td>0.083223</td>\n",
              "      <td>0.083223</td>\n",
              "      <td>0.083223</td>\n",
              "      <td>0.083223</td>\n",
              "      <td>0.083223</td>\n",
              "      <td>0.083223</td>\n",
              "      <td>0.083223</td>\n",
              "      <td>0.083223</td>\n",
              "      <td>0.083223</td>\n",
              "      <td>0.083223</td>\n",
              "      <td>0.083223</td>\n",
              "      <td>0.083223</td>\n",
              "      <td>0.083223</td>\n",
              "      <td>0.083223</td>\n",
              "      <td>0.083223</td>\n",
              "      <td>0.083223</td>\n",
              "      <td>0.083223</td>\n",
              "      <td>...</td>\n",
              "      <td>0.083223</td>\n",
              "      <td>0.083223</td>\n",
              "      <td>0.083223</td>\n",
              "      <td>0.083223</td>\n",
              "      <td>0.083223</td>\n",
              "      <td>0.083223</td>\n",
              "      <td>0.083223</td>\n",
              "      <td>0.083223</td>\n",
              "      <td>0.083223</td>\n",
              "      <td>0.083223</td>\n",
              "      <td>0.083223</td>\n",
              "      <td>0.083223</td>\n",
              "      <td>0.083223</td>\n",
              "      <td>0.083223</td>\n",
              "      <td>0.083223</td>\n",
              "      <td>0.083223</td>\n",
              "      <td>0.083223</td>\n",
              "      <td>0.083223</td>\n",
              "      <td>0.083223</td>\n",
              "      <td>0.083223</td>\n",
              "      <td>0.083223</td>\n",
              "      <td>0.083223</td>\n",
              "      <td>0.083223</td>\n",
              "      <td>0.083223</td>\n",
              "      <td>0.083223</td>\n",
              "      <td>0.083223</td>\n",
              "      <td>0.083223</td>\n",
              "      <td>0.083223</td>\n",
              "      <td>0.083223</td>\n",
              "      <td>0.083223</td>\n",
              "      <td>0.083223</td>\n",
              "      <td>0.083223</td>\n",
              "      <td>0.083223</td>\n",
              "      <td>0.083223</td>\n",
              "      <td>0.083223</td>\n",
              "      <td>0.083223</td>\n",
              "      <td>0.083223</td>\n",
              "      <td>0.083223</td>\n",
              "      <td>0.083223</td>\n",
              "      <td>1</td>\n",
              "    </tr>\n",
              "  </tbody>\n",
              "</table>\n",
              "<p>5063 rows × 67601 columns</p>\n",
              "</div>\n",
              "      <button class=\"colab-df-convert\" onclick=\"convertToInteractive('df-66087775-6b78-4116-a15d-e09c64559e1e')\"\n",
              "              title=\"Convert this dataframe to an interactive table.\"\n",
              "              style=\"display:none;\">\n",
              "        \n",
              "  <svg xmlns=\"http://www.w3.org/2000/svg\" height=\"24px\"viewBox=\"0 0 24 24\"\n",
              "       width=\"24px\">\n",
              "    <path d=\"M0 0h24v24H0V0z\" fill=\"none\"/>\n",
              "    <path d=\"M18.56 5.44l.94 2.06.94-2.06 2.06-.94-2.06-.94-.94-2.06-.94 2.06-2.06.94zm-11 1L8.5 8.5l.94-2.06 2.06-.94-2.06-.94L8.5 2.5l-.94 2.06-2.06.94zm10 10l.94 2.06.94-2.06 2.06-.94-2.06-.94-.94-2.06-.94 2.06-2.06.94z\"/><path d=\"M17.41 7.96l-1.37-1.37c-.4-.4-.92-.59-1.43-.59-.52 0-1.04.2-1.43.59L10.3 9.45l-7.72 7.72c-.78.78-.78 2.05 0 2.83L4 21.41c.39.39.9.59 1.41.59.51 0 1.02-.2 1.41-.59l7.78-7.78 2.81-2.81c.8-.78.8-2.07 0-2.86zM5.41 20L4 18.59l7.72-7.72 1.47 1.35L5.41 20z\"/>\n",
              "  </svg>\n",
              "      </button>\n",
              "      \n",
              "  <style>\n",
              "    .colab-df-container {\n",
              "      display:flex;\n",
              "      flex-wrap:wrap;\n",
              "      gap: 12px;\n",
              "    }\n",
              "\n",
              "    .colab-df-convert {\n",
              "      background-color: #E8F0FE;\n",
              "      border: none;\n",
              "      border-radius: 50%;\n",
              "      cursor: pointer;\n",
              "      display: none;\n",
              "      fill: #1967D2;\n",
              "      height: 32px;\n",
              "      padding: 0 0 0 0;\n",
              "      width: 32px;\n",
              "    }\n",
              "\n",
              "    .colab-df-convert:hover {\n",
              "      background-color: #E2EBFA;\n",
              "      box-shadow: 0px 1px 2px rgba(60, 64, 67, 0.3), 0px 1px 3px 1px rgba(60, 64, 67, 0.15);\n",
              "      fill: #174EA6;\n",
              "    }\n",
              "\n",
              "    [theme=dark] .colab-df-convert {\n",
              "      background-color: #3B4455;\n",
              "      fill: #D2E3FC;\n",
              "    }\n",
              "\n",
              "    [theme=dark] .colab-df-convert:hover {\n",
              "      background-color: #434B5C;\n",
              "      box-shadow: 0px 1px 3px 1px rgba(0, 0, 0, 0.15);\n",
              "      filter: drop-shadow(0px 1px 2px rgba(0, 0, 0, 0.3));\n",
              "      fill: #FFFFFF;\n",
              "    }\n",
              "  </style>\n",
              "\n",
              "      <script>\n",
              "        const buttonEl =\n",
              "          document.querySelector('#df-66087775-6b78-4116-a15d-e09c64559e1e button.colab-df-convert');\n",
              "        buttonEl.style.display =\n",
              "          google.colab.kernel.accessAllowed ? 'block' : 'none';\n",
              "\n",
              "        async function convertToInteractive(key) {\n",
              "          const element = document.querySelector('#df-66087775-6b78-4116-a15d-e09c64559e1e');\n",
              "          const dataTable =\n",
              "            await google.colab.kernel.invokeFunction('convertToInteractive',\n",
              "                                                     [key], {});\n",
              "          if (!dataTable) return;\n",
              "\n",
              "          const docLinkHtml = 'Like what you see? Visit the ' +\n",
              "            '<a target=\"_blank\" href=https://colab.research.google.com/notebooks/data_table.ipynb>data table notebook</a>'\n",
              "            + ' to learn more about interactive tables.';\n",
              "          element.innerHTML = '';\n",
              "          dataTable['output_type'] = 'display_data';\n",
              "          await google.colab.output.renderOutput(dataTable, element);\n",
              "          const docLink = document.createElement('div');\n",
              "          docLink.innerHTML = docLinkHtml;\n",
              "          element.appendChild(docLink);\n",
              "        }\n",
              "      </script>\n",
              "    </div>\n",
              "  </div>\n",
              "  "
            ],
            "text/plain": [
              "             0         1         2  ...     67598     67599  class_number\n",
              "0     0.083223  0.083223  0.083223  ...  0.083223  0.083223             0\n",
              "1     0.083223  0.083223  0.083223  ...  0.083223  0.083223             0\n",
              "2     0.083223  0.083223  0.083223  ...  0.083223  0.083223             0\n",
              "3     0.083223  0.083223  0.083223  ...  0.083223  0.083223             0\n",
              "4     0.083223  0.083223  0.083223  ...  0.083223  0.083223             0\n",
              "...        ...       ...       ...  ...       ...       ...           ...\n",
              "5058  0.083223  0.083223  0.083223  ...  0.083223  0.083223             1\n",
              "5059  0.083223  0.083223  0.083223  ...  0.083223  0.083223             1\n",
              "5060  0.083223  0.083223  0.083223  ...  0.083223  0.083223             1\n",
              "5061  0.083223  0.083223  0.083223  ...  0.083223  0.083223             1\n",
              "5062  0.083223  0.083223  0.083223  ...  0.083223  0.083223             1\n",
              "\n",
              "[5063 rows x 67601 columns]"
            ]
          },
          "metadata": {},
          "execution_count": 25
        }
      ]
    },
    {
      "cell_type": "markdown",
      "metadata": {
        "id": "KNjLjBwgdehc"
      },
      "source": [
        "##### Visualizamos ejemplos de ambas clases de imagenes"
      ]
    },
    {
      "cell_type": "code",
      "metadata": {
        "id": "bQRiXE3Gdehc",
        "colab": {
          "base_uri": "https://localhost:8080/",
          "height": 465
        },
        "outputId": "cf103c79-67ef-4cbe-beec-2e6dc02bc79b"
      },
      "source": [
        "#El método GroupBy de Pandas separa un data frame en varios data frames\n",
        "porClase = datos.groupby('class_number')\n",
        "\n",
        "#elije al azar n muestras de cada subconjunto y guarda la posición de las figuras elegidas en una lista\n",
        "n = 20\n",
        "c = random.sample(porClase.get_group(1).index.tolist(), n) # indices de las imagenes cancerígenas seleccionadas\n",
        "s = random.sample(porClase.get_group(0).index.tolist(), n) # indices de las imagenes sanas seleccionadas\n",
        "\n",
        "# Grafica 20 imágenes aleatorias de tejido con cáncer y 20 de tejido sano\n",
        "\n",
        "fig = plt.figure(figsize=(16, 8))\n",
        "columns = 10\n",
        "rows = 4\n",
        "for i in range(0, columns * rows):\n",
        "    fig.add_subplot( rows, columns, i+1)\n",
        "    if i < 20:\n",
        "        plt.imshow(img[c[i]], cmap='Greys_r')\n",
        "        plt.title('cancer')\n",
        "        plt.xticks([])\n",
        "        plt.yticks([])\n",
        "    else:\n",
        "        plt.imshow(img[s[i-20]], cmap='Greys_r')\n",
        "        plt.title('tejido sano')\n",
        "        plt.xticks([])\n",
        "        plt.yticks([])\n",
        "plt.show()"
      ],
      "execution_count": 26,
      "outputs": [
        {
          "output_type": "display_data",
          "data": {
            "image/png": "[encoded data removed]",
            "text/plain": [
              "<Figure size 1152x576 with 40 Axes>"
            ]
          },
          "metadata": {}
        }
      ]
    },
    {
      "cell_type": "markdown",
      "metadata": {
        "id": "zKnFTGWhdehe"
      },
      "source": [
        "## Paso 3. Entrenamiento utilizando perceptrón simple con conjunto de entrenamiento y prueba"
      ]
    },
    {
      "cell_type": "markdown",
      "metadata": {
        "id": "ROqxj7Qodehe"
      },
      "source": [
        "### 3.1  Crear subconjuntos de entrenamiento y prueba\n",
        "\n"
      ]
    },
    {
      "cell_type": "code",
      "source": [
        "Y.tail()"
      ],
      "metadata": {
        "id": "92_ZntSDbsJ9",
        "outputId": "e4da6b52-e8f4-45bb-bffc-e18885f99ae7",
        "colab": {
          "base_uri": "https://localhost:8080/"
        }
      },
      "execution_count": 27,
      "outputs": [
        {
          "output_type": "execute_result",
          "data": {
            "text/plain": [
              "5058    1\n",
              "5059    1\n",
              "5060    1\n",
              "5061    1\n",
              "5062    1\n",
              "Name: class_number, dtype: int64"
            ]
          },
          "metadata": {},
          "execution_count": 27
        }
      ]
    },
    {
      "cell_type": "code",
      "metadata": {
        "id": "oUswkFCzdehe"
      },
      "source": [
        "X_train, X_test, y_train, y_test = train_test_split( X, Y, test_size=0.3, \n",
        "                                                    shuffle=True, random_state=0)"
      ],
      "execution_count": 28,
      "outputs": []
    },
    {
      "cell_type": "code",
      "metadata": {
        "id": "7dBpIpAXdehh",
        "colab": {
          "base_uri": "https://localhost:8080/"
        },
        "outputId": "d7ca4452-c687-4c3d-f506-9e2e68f14e90"
      },
      "source": [
        "# ¿Cómo son los conjuntos de entrenamiento y prueba?\n",
        "print(\"Training set\")\n",
        "print(\"X: \", X_train.shape)\n",
        "print(\"Y: \", y_train.shape)\n",
        "unique, counts = np.unique(y_train, return_counts=True)\n",
        "print('Tejido Sano:        ', counts[0],'\\nDisplasia o Cáncer: ', counts[1],'\\n')\n",
        "\n",
        "\n",
        "print(\"Test set\")\n",
        "print(\"X: \", X_test.shape)\n",
        "print(\"Y: \", y_test.shape)\n",
        "unique, counts = np.unique(y_test, return_counts=True)\n",
        "print('Tejido Sano:         ', counts[0],'\\nDisplasia o Cáncer: ', counts[1],'\\n')"
      ],
      "execution_count": 29,
      "outputs": [
        {
          "output_type": "stream",
          "name": "stdout",
          "text": [
            "Training set\n",
            "X:  (3544, 67600)\n",
            "Y:  (3544,)\n",
            "Tejido Sano:         1043 \n",
            "Displasia o Cáncer:  2501 \n",
            "\n",
            "Test set\n",
            "X:  (1519, 67600)\n",
            "Y:  (1519,)\n",
            "Tejido Sano:          426 \n",
            "Displasia o Cáncer:  1093 \n",
            "\n"
          ]
        }
      ]
    },
    {
      "cell_type": "markdown",
      "metadata": {
        "id": "3amwnr4wdehi"
      },
      "source": [
        "### 3.2  Entrenamiento\n",
        "\n"
      ]
    },
    {
      "cell_type": "code",
      "metadata": {
        "colab": {
          "base_uri": "https://localhost:8080/"
        },
        "id": "TLNU0YFWXwki",
        "outputId": "ca5c0223-198e-49db-a879-a56f0d1053db"
      },
      "source": [
        "model = Perceptron(  max_iter=46,   random_state=0, verbose=False) \n",
        "model.fit(X_train,y_train)                                  \n",
        "\n",
        "print(\"Iterations: \", model.n_iter_)"
      ],
      "execution_count": 30,
      "outputs": [
        {
          "output_type": "stream",
          "name": "stdout",
          "text": [
            "Iterations:  44\n"
          ]
        }
      ]
    },
    {
      "cell_type": "code",
      "metadata": {
        "id": "h3BkKPiydehk",
        "colab": {
          "base_uri": "https://localhost:8080/"
        },
        "outputId": "9c9fbbd6-e80b-47b1-dcb9-41f3bee972e8"
      },
      "source": [
        "#Guardamos los coeficientes del modelo como beta\n",
        "\n",
        "beta = model.coef_\n",
        "print(beta.shape)"
      ],
      "execution_count": 31,
      "outputs": [
        {
          "output_type": "stream",
          "name": "stdout",
          "text": [
            "(1, 67600)\n"
          ]
        }
      ]
    },
    {
      "cell_type": "code",
      "source": [
        "model.intercept_\n"
      ],
      "metadata": {
        "id": "3HGRC-WqeSPo",
        "outputId": "db153695-4855-45f4-b5a0-a1482144fadb",
        "colab": {
          "base_uri": "https://localhost:8080/"
        }
      },
      "execution_count": 32,
      "outputs": [
        {
          "output_type": "execute_result",
          "data": {
            "text/plain": [
              "array([-42.])"
            ]
          },
          "metadata": {},
          "execution_count": 32
        }
      ]
    },
    {
      "cell_type": "code",
      "metadata": {
        "id": "QkszcmoXdehm",
        "colab": {
          "base_uri": "https://localhost:8080/"
        },
        "outputId": "2875b537-4a6d-43a6-cf77-e8eef332583f"
      },
      "source": [
        "beta[0, 50310:50320]"
      ],
      "execution_count": 33,
      "outputs": [
        {
          "output_type": "execute_result",
          "data": {
            "text/plain": [
              "array([ -1.92002706,  26.43550275,  48.33832196,  60.5412651 ,\n",
              "        36.79920392,  20.46658157,  -2.35208118, -16.18895686,\n",
              "       -16.80207686,   4.81493412])"
            ]
          },
          "metadata": {},
          "execution_count": 33
        }
      ]
    },
    {
      "cell_type": "code",
      "metadata": {
        "id": "kKIwT9sTdehn"
      },
      "source": [
        "y_predict = model.predict(X_test)  #pasa cada una de las imágenes de X_test por el modelo "
      ],
      "execution_count": 34,
      "outputs": []
    },
    {
      "cell_type": "code",
      "source": [
        "len(y_predict)"
      ],
      "metadata": {
        "id": "OWGlmSE5ej7r",
        "outputId": "cf5a4e60-036c-4cdc-f548-a0aa876da554",
        "colab": {
          "base_uri": "https://localhost:8080/"
        }
      },
      "execution_count": 35,
      "outputs": [
        {
          "output_type": "execute_result",
          "data": {
            "text/plain": [
              "1519"
            ]
          },
          "metadata": {},
          "execution_count": 35
        }
      ]
    },
    {
      "cell_type": "code",
      "metadata": {
        "id": "StUE3aEGdeho",
        "colab": {
          "base_uri": "https://localhost:8080/"
        },
        "outputId": "94d0ff63-504f-4ad5-ad68-c277381a2169"
      },
      "source": [
        "print(\"Accuracy: %.2f%%\" % (accuracy_score(y_test, y_predict)*100))"
      ],
      "execution_count": 36,
      "outputs": [
        {
          "output_type": "stream",
          "name": "stdout",
          "text": [
            "Accuracy: 90.19%\n"
          ]
        }
      ]
    },
    {
      "cell_type": "code",
      "metadata": {
        "colab": {
          "base_uri": "https://localhost:8080/"
        },
        "id": "t6rmWDgfV7nO",
        "outputId": "2d02ef4f-cf3d-4032-c012-60660187e7a2"
      },
      "source": [
        "print(\"Precisión conjunto entrenamiento: %.2f%%\" % (model.score(X_train, y_train)*100.0))\n",
        "print(\"Precisión conjunto prueba: %.2f%%\" % (model.score(X_test, y_test)*100.0))"
      ],
      "execution_count": 37,
      "outputs": [
        {
          "output_type": "stream",
          "name": "stdout",
          "text": [
            "Precisión conjunto entrenamiento: 95.49%\n",
            "Precisión conjunto prueba: 90.19%\n"
          ]
        }
      ]
    },
    {
      "cell_type": "code",
      "source": [
        "data = {'Y_Real':  y_test,\n",
        "        'Y_Prediccion':y_predict\n",
        "        }\n",
        "df = pd.DataFrame(data, columns=['Y_Real','Y_Prediccion'])\n",
        "df"
      ],
      "metadata": {
        "id": "bXliKIiUf4Cd",
        "outputId": "b21f79e8-44ca-492a-d345-1a7d7b437f81",
        "colab": {
          "base_uri": "https://localhost:8080/",
          "height": 423
        }
      },
      "execution_count": 38,
      "outputs": [
        {
          "output_type": "execute_result",
          "data": {
            "text/html": [
              "\n",
              "  <div id=\"df-ecfdeafb-95c5-4edb-aff6-1e3207f2d6a5\">\n",
              "    <div class=\"colab-df-container\">\n",
              "      <div>\n",
              "<style scoped>\n",
              "    .dataframe tbody tr th:only-of-type {\n",
              "        vertical-align: middle;\n",
              "    }\n",
              "\n",
              "    .dataframe tbody tr th {\n",
              "        vertical-align: top;\n",
              "    }\n",
              "\n",
              "    .dataframe thead th {\n",
              "        text-align: right;\n",
              "    }\n",
              "</style>\n",
              "<table border=\"1\" class=\"dataframe\">\n",
              "  <thead>\n",
              "    <tr style=\"text-align: right;\">\n",
              "      <th></th>\n",
              "      <th>Y_Real</th>\n",
              "      <th>Y_Prediccion</th>\n",
              "    </tr>\n",
              "  </thead>\n",
              "  <tbody>\n",
              "    <tr>\n",
              "      <th>3284</th>\n",
              "      <td>0</td>\n",
              "      <td>0</td>\n",
              "    </tr>\n",
              "    <tr>\n",
              "      <th>142</th>\n",
              "      <td>1</td>\n",
              "      <td>1</td>\n",
              "    </tr>\n",
              "    <tr>\n",
              "      <th>2625</th>\n",
              "      <td>1</td>\n",
              "      <td>1</td>\n",
              "    </tr>\n",
              "    <tr>\n",
              "      <th>2066</th>\n",
              "      <td>1</td>\n",
              "      <td>1</td>\n",
              "    </tr>\n",
              "    <tr>\n",
              "      <th>72</th>\n",
              "      <td>0</td>\n",
              "      <td>1</td>\n",
              "    </tr>\n",
              "    <tr>\n",
              "      <th>...</th>\n",
              "      <td>...</td>\n",
              "      <td>...</td>\n",
              "    </tr>\n",
              "    <tr>\n",
              "      <th>1569</th>\n",
              "      <td>1</td>\n",
              "      <td>1</td>\n",
              "    </tr>\n",
              "    <tr>\n",
              "      <th>5057</th>\n",
              "      <td>1</td>\n",
              "      <td>1</td>\n",
              "    </tr>\n",
              "    <tr>\n",
              "      <th>1422</th>\n",
              "      <td>0</td>\n",
              "      <td>0</td>\n",
              "    </tr>\n",
              "    <tr>\n",
              "      <th>2044</th>\n",
              "      <td>1</td>\n",
              "      <td>1</td>\n",
              "    </tr>\n",
              "    <tr>\n",
              "      <th>4906</th>\n",
              "      <td>1</td>\n",
              "      <td>1</td>\n",
              "    </tr>\n",
              "  </tbody>\n",
              "</table>\n",
              "<p>1519 rows × 2 columns</p>\n",
              "</div>\n",
              "      <button class=\"colab-df-convert\" onclick=\"convertToInteractive('df-ecfdeafb-95c5-4edb-aff6-1e3207f2d6a5')\"\n",
              "              title=\"Convert this dataframe to an interactive table.\"\n",
              "              style=\"display:none;\">\n",
              "        \n",
              "  <svg xmlns=\"http://www.w3.org/2000/svg\" height=\"24px\"viewBox=\"0 0 24 24\"\n",
              "       width=\"24px\">\n",
              "    <path d=\"M0 0h24v24H0V0z\" fill=\"none\"/>\n",
              "    <path d=\"M18.56 5.44l.94 2.06.94-2.06 2.06-.94-2.06-.94-.94-2.06-.94 2.06-2.06.94zm-11 1L8.5 8.5l.94-2.06 2.06-.94-2.06-.94L8.5 2.5l-.94 2.06-2.06.94zm10 10l.94 2.06.94-2.06 2.06-.94-2.06-.94-.94-2.06-.94 2.06-2.06.94z\"/><path d=\"M17.41 7.96l-1.37-1.37c-.4-.4-.92-.59-1.43-.59-.52 0-1.04.2-1.43.59L10.3 9.45l-7.72 7.72c-.78.78-.78 2.05 0 2.83L4 21.41c.39.39.9.59 1.41.59.51 0 1.02-.2 1.41-.59l7.78-7.78 2.81-2.81c.8-.78.8-2.07 0-2.86zM5.41 20L4 18.59l7.72-7.72 1.47 1.35L5.41 20z\"/>\n",
              "  </svg>\n",
              "      </button>\n",
              "      \n",
              "  <style>\n",
              "    .colab-df-container {\n",
              "      display:flex;\n",
              "      flex-wrap:wrap;\n",
              "      gap: 12px;\n",
              "    }\n",
              "\n",
              "    .colab-df-convert {\n",
              "      background-color: #E8F0FE;\n",
              "      border: none;\n",
              "      border-radius: 50%;\n",
              "      cursor: pointer;\n",
              "      display: none;\n",
              "      fill: #1967D2;\n",
              "      height: 32px;\n",
              "      padding: 0 0 0 0;\n",
              "      width: 32px;\n",
              "    }\n",
              "\n",
              "    .colab-df-convert:hover {\n",
              "      background-color: #E2EBFA;\n",
              "      box-shadow: 0px 1px 2px rgba(60, 64, 67, 0.3), 0px 1px 3px 1px rgba(60, 64, 67, 0.15);\n",
              "      fill: #174EA6;\n",
              "    }\n",
              "\n",
              "    [theme=dark] .colab-df-convert {\n",
              "      background-color: #3B4455;\n",
              "      fill: #D2E3FC;\n",
              "    }\n",
              "\n",
              "    [theme=dark] .colab-df-convert:hover {\n",
              "      background-color: #434B5C;\n",
              "      box-shadow: 0px 1px 3px 1px rgba(0, 0, 0, 0.15);\n",
              "      filter: drop-shadow(0px 1px 2px rgba(0, 0, 0, 0.3));\n",
              "      fill: #FFFFFF;\n",
              "    }\n",
              "  </style>\n",
              "\n",
              "      <script>\n",
              "        const buttonEl =\n",
              "          document.querySelector('#df-ecfdeafb-95c5-4edb-aff6-1e3207f2d6a5 button.colab-df-convert');\n",
              "        buttonEl.style.display =\n",
              "          google.colab.kernel.accessAllowed ? 'block' : 'none';\n",
              "\n",
              "        async function convertToInteractive(key) {\n",
              "          const element = document.querySelector('#df-ecfdeafb-95c5-4edb-aff6-1e3207f2d6a5');\n",
              "          const dataTable =\n",
              "            await google.colab.kernel.invokeFunction('convertToInteractive',\n",
              "                                                     [key], {});\n",
              "          if (!dataTable) return;\n",
              "\n",
              "          const docLinkHtml = 'Like what you see? Visit the ' +\n",
              "            '<a target=\"_blank\" href=https://colab.research.google.com/notebooks/data_table.ipynb>data table notebook</a>'\n",
              "            + ' to learn more about interactive tables.';\n",
              "          element.innerHTML = '';\n",
              "          dataTable['output_type'] = 'display_data';\n",
              "          await google.colab.output.renderOutput(dataTable, element);\n",
              "          const docLink = document.createElement('div');\n",
              "          docLink.innerHTML = docLinkHtml;\n",
              "          element.appendChild(docLink);\n",
              "        }\n",
              "      </script>\n",
              "    </div>\n",
              "  </div>\n",
              "  "
            ],
            "text/plain": [
              "      Y_Real  Y_Prediccion\n",
              "3284       0             0\n",
              "142        1             1\n",
              "2625       1             1\n",
              "2066       1             1\n",
              "72         0             1\n",
              "...      ...           ...\n",
              "1569       1             1\n",
              "5057       1             1\n",
              "1422       0             0\n",
              "2044       1             1\n",
              "4906       1             1\n",
              "\n",
              "[1519 rows x 2 columns]"
            ]
          },
          "metadata": {},
          "execution_count": 38
        }
      ]
    },
    {
      "cell_type": "code",
      "source": [
        "confusion_matrix = pd.crosstab(df['Y_Real'], df['Y_Prediccion'], rownames=['Real'], colnames=['Predicted'])\n",
        "confusion_matrix"
      ],
      "metadata": {
        "id": "9w3bFDEQgNX9",
        "outputId": "9007ad33-ebf3-418f-e71f-8cbe92de841e",
        "colab": {
          "base_uri": "https://localhost:8080/",
          "height": 143
        }
      },
      "execution_count": 39,
      "outputs": [
        {
          "output_type": "execute_result",
          "data": {
            "text/html": [
              "\n",
              "  <div id=\"df-0b398b7c-5af9-4f98-b03e-85d75a40a571\">\n",
              "    <div class=\"colab-df-container\">\n",
              "      <div>\n",
              "<style scoped>\n",
              "    .dataframe tbody tr th:only-of-type {\n",
              "        vertical-align: middle;\n",
              "    }\n",
              "\n",
              "    .dataframe tbody tr th {\n",
              "        vertical-align: top;\n",
              "    }\n",
              "\n",
              "    .dataframe thead th {\n",
              "        text-align: right;\n",
              "    }\n",
              "</style>\n",
              "<table border=\"1\" class=\"dataframe\">\n",
              "  <thead>\n",
              "    <tr style=\"text-align: right;\">\n",
              "      <th>Predicted</th>\n",
              "      <th>0</th>\n",
              "      <th>1</th>\n",
              "    </tr>\n",
              "    <tr>\n",
              "      <th>Real</th>\n",
              "      <th></th>\n",
              "      <th></th>\n",
              "    </tr>\n",
              "  </thead>\n",
              "  <tbody>\n",
              "    <tr>\n",
              "      <th>0</th>\n",
              "      <td>316</td>\n",
              "      <td>110</td>\n",
              "    </tr>\n",
              "    <tr>\n",
              "      <th>1</th>\n",
              "      <td>39</td>\n",
              "      <td>1054</td>\n",
              "    </tr>\n",
              "  </tbody>\n",
              "</table>\n",
              "</div>\n",
              "      <button class=\"colab-df-convert\" onclick=\"convertToInteractive('df-0b398b7c-5af9-4f98-b03e-85d75a40a571')\"\n",
              "              title=\"Convert this dataframe to an interactive table.\"\n",
              "              style=\"display:none;\">\n",
              "        \n",
              "  <svg xmlns=\"http://www.w3.org/2000/svg\" height=\"24px\"viewBox=\"0 0 24 24\"\n",
              "       width=\"24px\">\n",
              "    <path d=\"M0 0h24v24H0V0z\" fill=\"none\"/>\n",
              "    <path d=\"M18.56 5.44l.94 2.06.94-2.06 2.06-.94-2.06-.94-.94-2.06-.94 2.06-2.06.94zm-11 1L8.5 8.5l.94-2.06 2.06-.94-2.06-.94L8.5 2.5l-.94 2.06-2.06.94zm10 10l.94 2.06.94-2.06 2.06-.94-2.06-.94-.94-2.06-.94 2.06-2.06.94z\"/><path d=\"M17.41 7.96l-1.37-1.37c-.4-.4-.92-.59-1.43-.59-.52 0-1.04.2-1.43.59L10.3 9.45l-7.72 7.72c-.78.78-.78 2.05 0 2.83L4 21.41c.39.39.9.59 1.41.59.51 0 1.02-.2 1.41-.59l7.78-7.78 2.81-2.81c.8-.78.8-2.07 0-2.86zM5.41 20L4 18.59l7.72-7.72 1.47 1.35L5.41 20z\"/>\n",
              "  </svg>\n",
              "      </button>\n",
              "      \n",
              "  <style>\n",
              "    .colab-df-container {\n",
              "      display:flex;\n",
              "      flex-wrap:wrap;\n",
              "      gap: 12px;\n",
              "    }\n",
              "\n",
              "    .colab-df-convert {\n",
              "      background-color: #E8F0FE;\n",
              "      border: none;\n",
              "      border-radius: 50%;\n",
              "      cursor: pointer;\n",
              "      display: none;\n",
              "      fill: #1967D2;\n",
              "      height: 32px;\n",
              "      padding: 0 0 0 0;\n",
              "      width: 32px;\n",
              "    }\n",
              "\n",
              "    .colab-df-convert:hover {\n",
              "      background-color: #E2EBFA;\n",
              "      box-shadow: 0px 1px 2px rgba(60, 64, 67, 0.3), 0px 1px 3px 1px rgba(60, 64, 67, 0.15);\n",
              "      fill: #174EA6;\n",
              "    }\n",
              "\n",
              "    [theme=dark] .colab-df-convert {\n",
              "      background-color: #3B4455;\n",
              "      fill: #D2E3FC;\n",
              "    }\n",
              "\n",
              "    [theme=dark] .colab-df-convert:hover {\n",
              "      background-color: #434B5C;\n",
              "      box-shadow: 0px 1px 3px 1px rgba(0, 0, 0, 0.15);\n",
              "      filter: drop-shadow(0px 1px 2px rgba(0, 0, 0, 0.3));\n",
              "      fill: #FFFFFF;\n",
              "    }\n",
              "  </style>\n",
              "\n",
              "      <script>\n",
              "        const buttonEl =\n",
              "          document.querySelector('#df-0b398b7c-5af9-4f98-b03e-85d75a40a571 button.colab-df-convert');\n",
              "        buttonEl.style.display =\n",
              "          google.colab.kernel.accessAllowed ? 'block' : 'none';\n",
              "\n",
              "        async function convertToInteractive(key) {\n",
              "          const element = document.querySelector('#df-0b398b7c-5af9-4f98-b03e-85d75a40a571');\n",
              "          const dataTable =\n",
              "            await google.colab.kernel.invokeFunction('convertToInteractive',\n",
              "                                                     [key], {});\n",
              "          if (!dataTable) return;\n",
              "\n",
              "          const docLinkHtml = 'Like what you see? Visit the ' +\n",
              "            '<a target=\"_blank\" href=https://colab.research.google.com/notebooks/data_table.ipynb>data table notebook</a>'\n",
              "            + ' to learn more about interactive tables.';\n",
              "          element.innerHTML = '';\n",
              "          dataTable['output_type'] = 'display_data';\n",
              "          await google.colab.output.renderOutput(dataTable, element);\n",
              "          const docLink = document.createElement('div');\n",
              "          docLink.innerHTML = docLinkHtml;\n",
              "          element.appendChild(docLink);\n",
              "        }\n",
              "      </script>\n",
              "    </div>\n",
              "  </div>\n",
              "  "
            ],
            "text/plain": [
              "Predicted    0     1\n",
              "Real                \n",
              "0          316   110\n",
              "1           39  1054"
            ]
          },
          "metadata": {},
          "execution_count": 39
        }
      ]
    },
    {
      "cell_type": "code",
      "metadata": {
        "id": "qKpomRrudehq",
        "colab": {
          "base_uri": "https://localhost:8080/",
          "height": 278
        },
        "outputId": "69a7207e-34d7-4546-c5de-1d038525d1f4"
      },
      "source": [
        "#Matriz de confusión\n",
        "\n",
        "data = {'Y_Real':  y_test,\n",
        "        'Y_Prediccion':y_predict\n",
        "        }\n",
        "\n",
        "df = pd.DataFrame(data, columns=['Y_Real','Y_Prediccion'])\n",
        "confusion_matrix = pd.crosstab(df['Y_Real'], df['Y_Prediccion'], rownames=['Real'], colnames=['Predicted'])\n",
        "\n",
        "sns.heatmap(confusion_matrix, annot=True, fmt='g')\n",
        "plt.show()"
      ],
      "execution_count": 40,
      "outputs": [
        {
          "output_type": "display_data",
          "data": {
            "image/png": "[encoded data removed]",
            "text/plain": [
              "<Figure size 432x288 with 2 Axes>"
            ]
          },
          "metadata": {
            "needs_background": "light"
          }
        }
      ]
    },
    {
      "cell_type": "markdown",
      "metadata": {
        "id": "h8_DtNTIdehu"
      },
      "source": [
        "## Paso 4. Entrenamiento de perceptron utilizando margen"
      ]
    },
    {
      "cell_type": "code",
      "metadata": {
        "colab": {
          "base_uri": "https://localhost:8080/"
        },
        "id": "Gxmtpgu7jpXm",
        "outputId": "cc008afc-c4cf-454a-94a2-eb040d9f39c4"
      },
      "source": [
        "model2 = Perceptron(max_iter=1000,  random_state=0, verbose=False, \n",
        "                    penalty='l2',  alpha=0.0001) \n",
        "model2.fit(X_train,y_train)                                  \n",
        "\n",
        "print(\"Precisión conjunto entrenamiento: %.2f%%\" % (model2.score(X_train, y_train)*100.0))\n",
        "print(\"Precisión conjunto prueba: %.2f%%\" % (model2.score(X_test, y_test)*100.0))\n"
      ],
      "execution_count": 41,
      "outputs": [
        {
          "output_type": "stream",
          "name": "stdout",
          "text": [
            "Precisión conjunto entrenamiento: 77.48%\n",
            "Precisión conjunto prueba: 77.49%\n"
          ]
        }
      ]
    },
    {
      "cell_type": "code",
      "source": [
        "model3 = Perceptron(max_iter=1000,  random_state=0, verbose=False, \n",
        "                    penalty='l2', alpha=0.000005) \n",
        "\n",
        "model3.fit(X_train,y_train)  \n",
        "\n",
        "print(\"Precisión conjunto entrenamiento: %.2f%%\" % (model3.score(X_train, y_train)*100.0))\n",
        "print(\"Precisión conjunto prueba: %.2f%%\" % (model3.score(X_test, y_test)*100.0))"
      ],
      "metadata": {
        "id": "pJxejO9I43OJ",
        "outputId": "1795ff65-6cf4-456a-c5df-8b6327a56a6e",
        "colab": {
          "base_uri": "https://localhost:8080/"
        }
      },
      "execution_count": 42,
      "outputs": [
        {
          "output_type": "stream",
          "name": "stdout",
          "text": [
            "Precisión conjunto entrenamiento: 94.38%\n",
            "Precisión conjunto prueba: 90.06%\n"
          ]
        }
      ]
    },
    {
      "cell_type": "code",
      "source": [
        "model4 = Perceptron(max_iter=1000,  random_state=0, verbose=False, \n",
        "                    penalty='l2', alpha=0.000001) \n",
        "model4.fit(X_train,y_train) \n",
        "\n",
        "print(\"Precisión conjunto entrenamiento: %.2f%%\" % (model4.score(X_train, y_train)*100.0))\n",
        "print(\"Precisión conjunto prueba: %.2f%%\" % (model4.score(X_test, y_test)*100.0))"
      ],
      "metadata": {
        "id": "wkYOX_1j5CLk",
        "outputId": "e04feaa8-adab-4f90-d626-e51ff44ad594",
        "colab": {
          "base_uri": "https://localhost:8080/"
        }
      },
      "execution_count": 43,
      "outputs": [
        {
          "output_type": "stream",
          "name": "stdout",
          "text": [
            "Precisión conjunto entrenamiento: 98.59%\n",
            "Precisión conjunto prueba: 92.03%\n"
          ]
        }
      ]
    }
  ]
}