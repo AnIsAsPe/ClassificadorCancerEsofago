{
  "nbformat": 4,
  "nbformat_minor": 0,
  "metadata": {
    "kernelspec": {
      "display_name": "Python 3",
      "language": "python",
      "name": "python3"
    },
    "language_info": {
      "codemirror_mode": {
        "name": "ipython",
        "version": 3
      },
      "file_extension": ".py",
      "mimetype": "text/x-python",
      "name": "python",
      "nbconvert_exporter": "python",
      "pygments_lexer": "ipython3",
      "version": "3.8.2"
    },
    "colab": {
      "provenance": [],
      "toc_visible": true,
      "include_colab_link": true
    }
  },
  "cells": [
    {
      "cell_type": "markdown",
      "metadata": {
        "id": "view-in-github",
        "colab_type": "text"
      },
      "source": [
        "<a href=\"https://colab.research.google.com/github/AnIsAsPe/ClassificadorCancerEsofago/blob/master/Notebook/Selecci%C3%B3n_de_casos_de_an%C3%A1lisis.ipynb\" target=\"_parent\"><img src=\"https://colab.research.google.com/assets/colab-badge.svg\" alt=\"Open In Colab\"/></a>"
      ]
    },
    {
      "cell_type": "markdown",
      "metadata": {
        "id": "l-MdfIFVonxH"
      },
      "source": [
        "# 0. Selección de casos de análisis"
      ]
    },
    {
      "cell_type": "markdown",
      "metadata": {
        "id": "xGqXfTvkonxI"
      },
      "source": [
        "El conjunto de entrenamiento está formado por 94,446 imagenes adquiridas de 44 pacientes. El archivo TrainingSet_20aimVO.csv contiene el nombre de cada una de las imagenes y la clase a la que pertenece.\n",
        "\n",
        "Las clases contempladas son 4:\n",
        "0. Squamous epithelium (tejido saludable)\n",
        "1. Intestinal Metaplasia (tejido del esofajo que se ha transformado en tejido intestinal)\n",
        "2. Gastric Metaplasia (tejido gastrico cercano a la unión con el esófago)\n",
        "3. Displasya/Cancer (celulas pre-cancerosas/Cáncer)\n",
        "\n",
        "Para nuestro clasificador binomial utilizaremos solamente las imagenes de tejido sano y de células pre-cancerígenas o cancerígenas.\n",
        "\n",
        "El presente Notebook crea un subconjunto de imágenes reducidas a la mitad del tamaño, con los casos que usaremos en el clasificador con Perceptrón.\n"
      ]
    },
    {
      "cell_type": "markdown",
      "metadata": {
        "id": "Lh1ajBFzonxJ"
      },
      "source": [
        "## Paso 1. Cargar librerías y módulos requerdidos"
      ]
    },
    {
      "cell_type": "code",
      "metadata": {
        "id": "hFOBPY7vonxK"
      },
      "source": [
        "import os\n",
        "import random\n",
        "import numpy as np\n",
        "import pandas as pd\n",
        "from skimage.transform import rescale\n",
        "from skimage import io\n",
        "import matplotlib.pyplot as plt\n",
        "from matplotlib import image\n",
        "\n",
        "%matplotlib inline"
      ],
      "execution_count": null,
      "outputs": []
    },
    {
      "cell_type": "markdown",
      "metadata": {
        "id": "mJ29XidconxN"
      },
      "source": [
        "## Paso 2. Lectura de datos.\n",
        "\n",
        "- imágenes(X)\n",
        "- etiquetas(Y)."
      ]
    },
    {
      "cell_type": "code",
      "metadata": {
        "id": "YzH3nFaVonxO"
      },
      "source": [
        "path = 'C:\\\\Users\\\\anais\\\\Documents\\\\Datos\\\\Cáncer Esofago_challenge 11\\\\'\n",
        "train_df = pd.read_csv(path+\"TrainingSet_20aimVO.csv\")"
      ],
      "execution_count": null,
      "outputs": []
    },
    {
      "cell_type": "code",
      "metadata": {
        "id": "o5m5fqE3onxQ"
      },
      "source": [
        "train_df.head()"
      ],
      "execution_count": null,
      "outputs": []
    },
    {
      "cell_type": "code",
      "metadata": {
        "id": "gIb2en5MonxT"
      },
      "source": [
        "train_df['class_number'].value_counts(sort=False)"
      ],
      "execution_count": null,
      "outputs": []
    },
    {
      "cell_type": "code",
      "metadata": {
        "id": "c8xhBFn8onxV"
      },
      "source": [
        "train_df.shape"
      ],
      "execution_count": null,
      "outputs": []
    },
    {
      "cell_type": "markdown",
      "metadata": {
        "id": "cVqXrXhIonxX"
      },
      "source": [
        "### 2.1  Seleccionamos las imagenes de tejido sano y tejido con cancer"
      ]
    },
    {
      "cell_type": "code",
      "metadata": {
        "id": "IlW5cqOvonxX"
      },
      "source": [
        "dat = train_df[(train_df.class_number == 0) |(train_df.class_number == 3 )]  #Seleccionamos solamente las imagenes de tejido\n",
        "                                                                               #sano y tejido con cancer\n",
        "dat = dat.replace(3,1)   #Renombramos la clase 3 como clase 1\n",
        "\n",
        "dat.shape"
      ],
      "execution_count": null,
      "outputs": []
    },
    {
      "cell_type": "code",
      "metadata": {
        "id": "id0CRiMIonxa"
      },
      "source": [
        "dat.head()"
      ],
      "execution_count": null,
      "outputs": []
    },
    {
      "cell_type": "code",
      "metadata": {
        "id": "irh_5bltonxd"
      },
      "source": [
        "dat.class_number.value_counts(sort=False)"
      ],
      "execution_count": null,
      "outputs": []
    },
    {
      "cell_type": "code",
      "metadata": {
        "id": "xor0cEv3onxf"
      },
      "source": [
        "dat.image_filename.nunique()"
      ],
      "execution_count": null,
      "outputs": []
    },
    {
      "cell_type": "code",
      "metadata": {
        "id": "Ouz0gYAronxh"
      },
      "source": [
        "dat = dat.reset_index(drop=True)"
      ],
      "execution_count": null,
      "outputs": []
    },
    {
      "cell_type": "code",
      "metadata": {
        "id": "rCibTV0Gonxi"
      },
      "source": [
        "\n",
        "dat.to_csv('ClasesImagenes.csv',index=False)"
      ],
      "execution_count": null,
      "outputs": []
    },
    {
      "cell_type": "markdown",
      "metadata": {
        "id": "72dgy5KRonxm"
      },
      "source": [
        "### 2.2  Exploramos el formato de las imagenes mediante un ejemplo"
      ]
    },
    {
      "cell_type": "markdown",
      "metadata": {
        "id": "T2geQihQonxm"
      },
      "source": [
        "Cuando cargamos una imagen a color, el objeto resultante es una matriz de tres dimensiones, que representa de manera eficiente el nivel de cada pixel entre 0 y 255 (256 niveles discretos de color son suficientes para la percepción del ojo humano)"
      ]
    },
    {
      "cell_type": "code",
      "metadata": {
        "id": "nYHq50w8onxn"
      },
      "source": [
        "datos=dat"
      ],
      "execution_count": null,
      "outputs": []
    },
    {
      "cell_type": "code",
      "metadata": {
        "id": "iYCVll5Konxo"
      },
      "source": [
        "image_path = \"C:\\\\Users\\\\anais\\\\Documents\\\\Datos\\\\Cáncer Esofago_challenge 11\\\\TrainingSetImagesDir\"\n",
        "datos['image_filename'] = dat['image_filename'].apply(lambda x: [os.path.join(image_path, x)])\n",
        "datos['image_filename'] = dat['image_filename'].str.get(0)\n",
        "\n",
        "datos.head()"
      ],
      "execution_count": null,
      "outputs": []
    },
    {
      "cell_type": "code",
      "metadata": {
        "id": "weq0GML3onxq"
      },
      "source": [
        "ejem = io.imread(datos['image_filename'][2693])"
      ],
      "execution_count": null,
      "outputs": []
    },
    {
      "cell_type": "code",
      "metadata": {
        "id": "3hjkgw1oonxs"
      },
      "source": [
        "io.imshow(ejem)\n",
        "plt.show()"
      ],
      "execution_count": null,
      "outputs": []
    },
    {
      "cell_type": "code",
      "metadata": {
        "id": "NbHrvnVponxu"
      },
      "source": [
        "#Revisamos la dimensión que tiene una sola imagén, en este caso es la primera\n",
        "ejem.shape\n"
      ],
      "execution_count": null,
      "outputs": []
    },
    {
      "cell_type": "markdown",
      "metadata": {
        "id": "WHfCFJwMonxv"
      },
      "source": [
        "\n",
        "![image.png](attachment:image.png)\n",
        "\n",
        "Fuente: «How to Convert a Picture to Numbers». Accedido 12 de mayo de 2020. https://e2eml.school/images_to_numbers.html."
      ]
    },
    {
      "cell_type": "markdown",
      "metadata": {
        "id": "gQpxN5xeonxw"
      },
      "source": [
        "- Dimensión 0: 519 renglones de pixeles de arriba a abajo\n",
        "- Dimension 1: 521 columnas de pixeles de izquierda a derecha\n",
        "- Dimension 2: 3 Canales de color (rojo, verde y azul en ese orden) (RGB)"
      ]
    },
    {
      "cell_type": "code",
      "metadata": {
        "id": "Mz3E8358onxw"
      },
      "source": [
        "# Explorando los colores de un pixel cualquiera de la primera imagen.\n",
        "ejem[240][51]\n"
      ],
      "execution_count": null,
      "outputs": []
    },
    {
      "cell_type": "markdown",
      "metadata": {
        "id": "9J49ydwBonxy"
      },
      "source": [
        "Probar la linea anterior con distintos pixeles"
      ]
    },
    {
      "cell_type": "markdown",
      "metadata": {
        "id": "FaD4f-qJonxy"
      },
      "source": [
        "Cuando los valores de los tres canales del color RGB son idénticos, se obtiene un tono de gris entre 0 equivalente a negro y 255 equivalente a banco."
      ]
    },
    {
      "cell_type": "markdown",
      "metadata": {
        "id": "BlJsK6bconxy"
      },
      "source": [
        "### 2.3 Cargamos todas las imágenes de tejido sano y tejido con cáncer"
      ]
    },
    {
      "cell_type": "code",
      "metadata": {
        "id": "8m6m3ugAonxy"
      },
      "source": [
        "# Cargamos las imagenes del conjunto d entrenamiento como lista de matrices\n",
        "# o arreglo de números (np.arrays).\n",
        "\n",
        "%time img= [io.imread(i, as_gray=True) for i in datos['image_filename'][:]]\n"
      ],
      "execution_count": null,
      "outputs": []
    },
    {
      "cell_type": "code",
      "metadata": {
        "id": "iHGwV2CVonx0"
      },
      "source": [
        "len(img)"
      ],
      "execution_count": null,
      "outputs": []
    },
    {
      "cell_type": "code",
      "metadata": {
        "id": "tJp9NTgEonx2"
      },
      "source": [
        "%%time\n",
        "\n",
        "img_scl = []\n",
        "for i in range (len(img)):\n",
        "    scl = rescale(img[i] , 1/2)\n",
        "    img_scl.append(scl)"
      ],
      "execution_count": null,
      "outputs": []
    },
    {
      "cell_type": "code",
      "metadata": {
        "scrolled": false,
        "id": "qm_3_616onx4"
      },
      "source": [
        "%%time\n",
        "for i in range(len(img)):\n",
        "    image.imsave( ('datosCancer/CarpetaImagenes/'+dat.image_filename[i]), img_scl[i])"
      ],
      "execution_count": null,
      "outputs": []
    }
  ]
}